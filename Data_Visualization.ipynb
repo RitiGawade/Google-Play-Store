{
 "cells": [
  {
   "cell_type": "markdown",
   "id": "625e3124",
   "metadata": {},
   "source": [
    "## GOOGLE PLAY STORE ANALYSIS PROJECT"
   ]
  },
  {
   "cell_type": "markdown",
   "id": "0ed1eab5",
   "metadata": {},
   "source": [
    "Understand the trend of applications available on the google play store with a focus on promoting advertisements on particular applications which are trending in the market and can lead to maximum profit.\n",
    "Analyze detailed information on apps in the Google Play Store to discover insights on app features and the current state of the Android app market."
   ]
  },
  {
   "cell_type": "markdown",
   "id": "eaddb27a",
   "metadata": {},
   "source": [
    "### LIBRARIES "
   ]
  },
  {
   "cell_type": "code",
   "execution_count": 1,
   "id": "98111f46",
   "metadata": {},
   "outputs": [],
   "source": [
    "# Libraries for reading and manipulating data\n",
    "import numpy as np\n",
    "import pandas as pd\n",
    "\n",
    "# Libraries for data visualization\n",
    "import matplotlib.pyplot as plt\n",
    "import seaborn as sns\n",
    "\n",
    "#display the graphs\n",
    "%matplotlib inline\n",
    "\n",
    "#display values to 2 decimal places\n",
    "pd.set_option(\"display.float_format\", lambda x: \"%.2f\" % x) "
   ]
  },
  {
   "cell_type": "markdown",
   "id": "ce87463a",
   "metadata": {},
   "source": [
    "### READING THE DATASET"
   ]
  },
  {
   "cell_type": "code",
   "execution_count": 2,
   "id": "4034ef9f",
   "metadata": {},
   "outputs": [
    {
     "data": {
      "text/html": [
       "<div>\n",
       "<style scoped>\n",
       "    .dataframe tbody tr th:only-of-type {\n",
       "        vertical-align: middle;\n",
       "    }\n",
       "\n",
       "    .dataframe tbody tr th {\n",
       "        vertical-align: top;\n",
       "    }\n",
       "\n",
       "    .dataframe thead th {\n",
       "        text-align: right;\n",
       "    }\n",
       "</style>\n",
       "<table border=\"1\" class=\"dataframe\">\n",
       "  <thead>\n",
       "    <tr style=\"text-align: right;\">\n",
       "      <th></th>\n",
       "      <th>App</th>\n",
       "      <th>Category</th>\n",
       "      <th>Rating</th>\n",
       "      <th>Reviews</th>\n",
       "      <th>Size</th>\n",
       "      <th>Installs</th>\n",
       "      <th>Type</th>\n",
       "      <th>Price</th>\n",
       "      <th>Content Rating</th>\n",
       "      <th>Genres</th>\n",
       "      <th>Last Updated</th>\n",
       "      <th>Current Ver</th>\n",
       "      <th>Android Ver</th>\n",
       "    </tr>\n",
       "  </thead>\n",
       "  <tbody>\n",
       "    <tr>\n",
       "      <th>0</th>\n",
       "      <td>Photo Editor &amp; Candy Camera &amp; Grid &amp; ScrapBook</td>\n",
       "      <td>ART_AND_DESIGN</td>\n",
       "      <td>4.10</td>\n",
       "      <td>159</td>\n",
       "      <td>19M</td>\n",
       "      <td>10,000+</td>\n",
       "      <td>Free</td>\n",
       "      <td>0</td>\n",
       "      <td>Everyone</td>\n",
       "      <td>Art &amp; Design</td>\n",
       "      <td>January 7, 2018</td>\n",
       "      <td>1.0.0</td>\n",
       "      <td>4.0.3 and up</td>\n",
       "    </tr>\n",
       "    <tr>\n",
       "      <th>1</th>\n",
       "      <td>Coloring book moana</td>\n",
       "      <td>ART_AND_DESIGN</td>\n",
       "      <td>3.90</td>\n",
       "      <td>967</td>\n",
       "      <td>14M</td>\n",
       "      <td>500,000+</td>\n",
       "      <td>Free</td>\n",
       "      <td>0</td>\n",
       "      <td>Everyone</td>\n",
       "      <td>Art &amp; Design;Pretend Play</td>\n",
       "      <td>January 15, 2018</td>\n",
       "      <td>2.0.0</td>\n",
       "      <td>4.0.3 and up</td>\n",
       "    </tr>\n",
       "    <tr>\n",
       "      <th>2</th>\n",
       "      <td>U Launcher Lite – FREE Live Cool Themes, Hide ...</td>\n",
       "      <td>ART_AND_DESIGN</td>\n",
       "      <td>4.70</td>\n",
       "      <td>87510</td>\n",
       "      <td>8.7M</td>\n",
       "      <td>5,000,000+</td>\n",
       "      <td>Free</td>\n",
       "      <td>0</td>\n",
       "      <td>Everyone</td>\n",
       "      <td>Art &amp; Design</td>\n",
       "      <td>August 1, 2018</td>\n",
       "      <td>1.2.4</td>\n",
       "      <td>4.0.3 and up</td>\n",
       "    </tr>\n",
       "    <tr>\n",
       "      <th>3</th>\n",
       "      <td>Sketch - Draw &amp; Paint</td>\n",
       "      <td>ART_AND_DESIGN</td>\n",
       "      <td>4.50</td>\n",
       "      <td>215644</td>\n",
       "      <td>25M</td>\n",
       "      <td>50,000,000+</td>\n",
       "      <td>Free</td>\n",
       "      <td>0</td>\n",
       "      <td>Teen</td>\n",
       "      <td>Art &amp; Design</td>\n",
       "      <td>June 8, 2018</td>\n",
       "      <td>Varies with device</td>\n",
       "      <td>4.2 and up</td>\n",
       "    </tr>\n",
       "    <tr>\n",
       "      <th>4</th>\n",
       "      <td>Pixel Draw - Number Art Coloring Book</td>\n",
       "      <td>ART_AND_DESIGN</td>\n",
       "      <td>4.30</td>\n",
       "      <td>967</td>\n",
       "      <td>2.8M</td>\n",
       "      <td>100,000+</td>\n",
       "      <td>Free</td>\n",
       "      <td>0</td>\n",
       "      <td>Everyone</td>\n",
       "      <td>Art &amp; Design;Creativity</td>\n",
       "      <td>June 20, 2018</td>\n",
       "      <td>1.1</td>\n",
       "      <td>4.4 and up</td>\n",
       "    </tr>\n",
       "  </tbody>\n",
       "</table>\n",
       "</div>"
      ],
      "text/plain": [
       "                                                 App        Category  Rating  \\\n",
       "0     Photo Editor & Candy Camera & Grid & ScrapBook  ART_AND_DESIGN    4.10   \n",
       "1                                Coloring book moana  ART_AND_DESIGN    3.90   \n",
       "2  U Launcher Lite – FREE Live Cool Themes, Hide ...  ART_AND_DESIGN    4.70   \n",
       "3                              Sketch - Draw & Paint  ART_AND_DESIGN    4.50   \n",
       "4              Pixel Draw - Number Art Coloring Book  ART_AND_DESIGN    4.30   \n",
       "\n",
       "  Reviews  Size     Installs  Type Price Content Rating  \\\n",
       "0     159   19M      10,000+  Free     0       Everyone   \n",
       "1     967   14M     500,000+  Free     0       Everyone   \n",
       "2   87510  8.7M   5,000,000+  Free     0       Everyone   \n",
       "3  215644   25M  50,000,000+  Free     0           Teen   \n",
       "4     967  2.8M     100,000+  Free     0       Everyone   \n",
       "\n",
       "                      Genres      Last Updated         Current Ver  \\\n",
       "0               Art & Design   January 7, 2018               1.0.0   \n",
       "1  Art & Design;Pretend Play  January 15, 2018               2.0.0   \n",
       "2               Art & Design    August 1, 2018               1.2.4   \n",
       "3               Art & Design      June 8, 2018  Varies with device   \n",
       "4    Art & Design;Creativity     June 20, 2018                 1.1   \n",
       "\n",
       "    Android Ver  \n",
       "0  4.0.3 and up  \n",
       "1  4.0.3 and up  \n",
       "2  4.0.3 and up  \n",
       "3    4.2 and up  \n",
       "4    4.4 and up  "
      ]
     },
     "execution_count": 2,
     "metadata": {},
     "output_type": "execute_result"
    }
   ],
   "source": [
    "#read the csv file into a dataframe\n",
    "data = pd.read_csv(\"google_play_store.csv\")\n",
    "\n",
    "#create a copy of the data\n",
    "df = data.copy()\n",
    "\n",
    "#display first five rows of the dataset\n",
    "df.head()"
   ]
  },
  {
   "cell_type": "code",
   "execution_count": 3,
   "id": "af160442",
   "metadata": {},
   "outputs": [
    {
     "data": {
      "text/plain": [
       "(10841, 13)"
      ]
     },
     "execution_count": 3,
     "metadata": {},
     "output_type": "execute_result"
    }
   ],
   "source": [
    "#total number of rows and columns of the dataset\n",
    "df.shape"
   ]
  },
  {
   "cell_type": "markdown",
   "id": "5af4b8b2",
   "metadata": {},
   "source": [
    "### DESCRIPTIVE SUMMARY OF DATASET:\n",
    "- There are a total of **10,841** rows and **13** columns in the dataset.\n",
    "- The names of the apps are specified under the **App** column.\n",
    "- The apps are grouped into different categories and displayed under the **Category** column.\n",
    "- The **Ratings** and **Reviews** columns display the performance of each app as stated by the users.\n",
    "- The size of each app is displayed in kilobytes in the **Size** column and the number of downloads for each app specified in the **Installs** column.\n",
    "- The apps have been grouped into either Paid or Free under the **Type** column and their corresponding prices shown in the **Price** column.\n",
    "- The **Content Rating** column describes the age group of the users for which the app has been developed.\n",
    "- **Genres** provides information on the different groupings of the apps. However, this information is similar to the one provided in the Category column.\n",
    "- **Last Updated** column shows the dates for the most recent updates installed by the creators.\n",
    "- **Current Version** column shows the recent versions of the apps and the **Android Version** column shows the version of the Android OS the app is compatible with."
   ]
  },
  {
   "cell_type": "markdown",
   "id": "8ceec298",
   "metadata": {},
   "source": [
    "### DATASET INFORMATION\n"
   ]
  },
  {
   "cell_type": "code",
   "execution_count": 4,
   "id": "b0c18c20",
   "metadata": {},
   "outputs": [
    {
     "name": "stdout",
     "output_type": "stream",
     "text": [
      "<class 'pandas.core.frame.DataFrame'>\n",
      "RangeIndex: 10841 entries, 0 to 10840\n",
      "Data columns (total 13 columns):\n",
      " #   Column          Non-Null Count  Dtype  \n",
      "---  ------          --------------  -----  \n",
      " 0   App             10841 non-null  object \n",
      " 1   Category        10841 non-null  object \n",
      " 2   Rating          9367 non-null   float64\n",
      " 3   Reviews         10841 non-null  object \n",
      " 4   Size            10841 non-null  object \n",
      " 5   Installs        10841 non-null  object \n",
      " 6   Type            10840 non-null  object \n",
      " 7   Price           10841 non-null  object \n",
      " 8   Content Rating  10840 non-null  object \n",
      " 9   Genres          10841 non-null  object \n",
      " 10  Last Updated    10841 non-null  object \n",
      " 11  Current Ver     10833 non-null  object \n",
      " 12  Android Ver     10838 non-null  object \n",
      "dtypes: float64(1), object(12)\n",
      "memory usage: 1.1+ MB\n"
     ]
    }
   ],
   "source": [
    "#displays the datatypes of the columns in the dataset\n",
    "df.info() "
   ]
  },
  {
   "cell_type": "markdown",
   "id": "fe82f073",
   "metadata": {},
   "source": [
    "- There are **seven(7)** object datatype columns and **five(5)** numeric datatype columns.\n",
    "- The dataset occupies aproximately **1.1 MB** of memory.\n",
    "- We can infer that some rows have missing data since some columns have count less than the total number of rows.This will be treated in the data cleaning process.\n",
    "- Some columns have numeric values but are represented as object datatype. They will be converted to more appropriate datatypes for analysis.\n",
    "- Columns that will not be used for this analysis will be dropped."
   ]
  },
  {
   "cell_type": "markdown",
   "id": "5af6140e",
   "metadata": {},
   "source": [
    "#### DROP REDUNDANT COLUMNS"
   ]
  },
  {
   "cell_type": "code",
   "execution_count": 5,
   "id": "40b53fa2",
   "metadata": {},
   "outputs": [
    {
     "data": {
      "text/plain": [
       "Index(['App', 'Category', 'Rating', 'Reviews', 'Size', 'Installs', 'Price',\n",
       "       'Content Rating'],\n",
       "      dtype='object')"
      ]
     },
     "execution_count": 5,
     "metadata": {},
     "output_type": "execute_result"
    }
   ],
   "source": [
    "#list of columns to drop from dataset\n",
    "col_to_drop = ['Type','Genres','Last Updated','Current Ver','Android Ver']\n",
    "\n",
    "#drop listed columns\n",
    "df = df.drop(columns = col_to_drop)\n",
    "\n",
    "#verify results of the drop\n",
    "df.columns"
   ]
  },
  {
   "cell_type": "markdown",
   "id": "1eb46964",
   "metadata": {},
   "source": [
    "- Columns dropped as seen"
   ]
  },
  {
   "cell_type": "markdown",
   "id": "b73af750",
   "metadata": {},
   "source": [
    "#### COLUMN CONVERSION"
   ]
  },
  {
   "cell_type": "code",
   "execution_count": 6,
   "id": "21880b71",
   "metadata": {},
   "outputs": [
    {
     "data": {
      "text/html": [
       "<div>\n",
       "<style scoped>\n",
       "    .dataframe tbody tr th:only-of-type {\n",
       "        vertical-align: middle;\n",
       "    }\n",
       "\n",
       "    .dataframe tbody tr th {\n",
       "        vertical-align: top;\n",
       "    }\n",
       "\n",
       "    .dataframe thead th {\n",
       "        text-align: right;\n",
       "    }\n",
       "</style>\n",
       "<table border=\"1\" class=\"dataframe\">\n",
       "  <thead>\n",
       "    <tr style=\"text-align: right;\">\n",
       "      <th></th>\n",
       "      <th>App</th>\n",
       "      <th>Category</th>\n",
       "      <th>Rating</th>\n",
       "      <th>Reviews</th>\n",
       "      <th>Size</th>\n",
       "      <th>Installs</th>\n",
       "      <th>Price</th>\n",
       "      <th>Content Rating</th>\n",
       "    </tr>\n",
       "  </thead>\n",
       "  <tbody>\n",
       "    <tr>\n",
       "      <th>10472</th>\n",
       "      <td>Life Made WI-Fi Touchscreen Photo Frame</td>\n",
       "      <td>1.9</td>\n",
       "      <td>19.00</td>\n",
       "      <td>3.0M</td>\n",
       "      <td>1,000+</td>\n",
       "      <td>Free</td>\n",
       "      <td>Everyone</td>\n",
       "      <td>NaN</td>\n",
       "    </tr>\n",
       "  </tbody>\n",
       "</table>\n",
       "</div>"
      ],
      "text/plain": [
       "                                           App Category  Rating Reviews  \\\n",
       "10472  Life Made WI-Fi Touchscreen Photo Frame      1.9   19.00    3.0M   \n",
       "\n",
       "         Size Installs     Price Content Rating  \n",
       "10472  1,000+     Free  Everyone            NaN  "
      ]
     },
     "execution_count": 6,
     "metadata": {},
     "output_type": "execute_result"
    }
   ],
   "source": [
    "df[df['Content Rating'].isnull()]"
   ]
  },
  {
   "cell_type": "code",
   "execution_count": 7,
   "id": "e583bb96",
   "metadata": {},
   "outputs": [
    {
     "data": {
      "text/html": [
       "<div>\n",
       "<style scoped>\n",
       "    .dataframe tbody tr th:only-of-type {\n",
       "        vertical-align: middle;\n",
       "    }\n",
       "\n",
       "    .dataframe tbody tr th {\n",
       "        vertical-align: top;\n",
       "    }\n",
       "\n",
       "    .dataframe thead th {\n",
       "        text-align: right;\n",
       "    }\n",
       "</style>\n",
       "<table border=\"1\" class=\"dataframe\">\n",
       "  <thead>\n",
       "    <tr style=\"text-align: right;\">\n",
       "      <th></th>\n",
       "      <th>App</th>\n",
       "      <th>Category</th>\n",
       "      <th>Rating</th>\n",
       "      <th>Reviews</th>\n",
       "      <th>Size</th>\n",
       "      <th>Installs</th>\n",
       "      <th>Price</th>\n",
       "      <th>Content Rating</th>\n",
       "    </tr>\n",
       "  </thead>\n",
       "  <tbody>\n",
       "    <tr>\n",
       "      <th>0</th>\n",
       "      <td>Life Made WI-Fi Touchscreen Photo Frame</td>\n",
       "      <td>1.9</td>\n",
       "      <td>19.00</td>\n",
       "      <td>3.0M</td>\n",
       "      <td>1,000+</td>\n",
       "      <td>Free</td>\n",
       "      <td>Everyone</td>\n",
       "      <td>NaN</td>\n",
       "    </tr>\n",
       "  </tbody>\n",
       "</table>\n",
       "</div>"
      ],
      "text/plain": [
       "                                       App Category  Rating Reviews    Size  \\\n",
       "0  Life Made WI-Fi Touchscreen Photo Frame      1.9   19.00    3.0M  1,000+   \n",
       "\n",
       "  Installs     Price Content Rating  \n",
       "0     Free  Everyone            NaN  "
      ]
     },
     "execution_count": 7,
     "metadata": {},
     "output_type": "execute_result"
    }
   ],
   "source": [
    "#columns to convert to integer datatype\n",
    "col_to_check = ['Reviews']\n",
    "\n",
    "#checking for non-numeric rows\n",
    "non_numeric_values = {}\n",
    "for row in col_to_check:\n",
    "        non_numeric_values[row] = df.loc[pd.to_numeric(df[row], errors='coerce').isnull()]\n",
    "        \n",
    "#display result in tabular format\n",
    "non_numeric_df = pd.concat(non_numeric_values, ignore_index = True)\n",
    "non_numeric_df"
   ]
  },
  {
   "cell_type": "code",
   "execution_count": 8,
   "id": "1718a78f",
   "metadata": {},
   "outputs": [],
   "source": [
    "#drop disruptive row\n",
    "df = df.drop(df[df['Reviews'] == '3.0M'].index)\n",
    "\n",
    "#convert Reviews column to integer datatype\n",
    "df['Reviews'] = df['Reviews'].astype(float)"
   ]
  },
  {
   "cell_type": "code",
   "execution_count": 9,
   "id": "31790996",
   "metadata": {},
   "outputs": [],
   "source": [
    "#Converting string values in Size column and converting column to float type\n",
    "df['Size'] = df['Size'].str.replace('+','', regex=False) #treat + character as string NOT regex pattern\n",
    "df['Size'] = df['Size'].str.replace('M','').str.replace('Varies with device','0').str.replace('k','').astype(float)"
   ]
  },
  {
   "cell_type": "code",
   "execution_count": 10,
   "id": "2decb4b0",
   "metadata": {},
   "outputs": [],
   "source": [
    "#Converting string values in Installs column and converting column to float type\n",
    "df['Installs'] = df['Installs'].str.replace(',', '', regex=False).str.replace('+', '', regex=False).astype(float)"
   ]
  },
  {
   "cell_type": "code",
   "execution_count": 11,
   "id": "998350ff",
   "metadata": {},
   "outputs": [],
   "source": [
    "#Converting string values in Price column and converting column to float type\n",
    "df['Price'] = df['Price'].str.replace('$', '', regex=False).astype(float)"
   ]
  },
  {
   "cell_type": "code",
   "execution_count": 12,
   "id": "de998fb8",
   "metadata": {},
   "outputs": [
    {
     "name": "stdout",
     "output_type": "stream",
     "text": [
      "<class 'pandas.core.frame.DataFrame'>\n",
      "Int64Index: 10840 entries, 0 to 10840\n",
      "Data columns (total 8 columns):\n",
      " #   Column          Non-Null Count  Dtype  \n",
      "---  ------          --------------  -----  \n",
      " 0   App             10840 non-null  object \n",
      " 1   Category        10840 non-null  object \n",
      " 2   Rating          9366 non-null   float64\n",
      " 3   Reviews         10840 non-null  float64\n",
      " 4   Size            10840 non-null  float64\n",
      " 5   Installs        10840 non-null  float64\n",
      " 6   Price           10840 non-null  float64\n",
      " 7   Content Rating  10840 non-null  object \n",
      "dtypes: float64(5), object(3)\n",
      "memory usage: 762.2+ KB\n"
     ]
    }
   ],
   "source": [
    "#verify the conversion of the column datatypes\n",
    "df.info()"
   ]
  },
  {
   "cell_type": "markdown",
   "id": "1a516da8",
   "metadata": {},
   "source": [
    "- Column conversions and row dropping successful"
   ]
  },
  {
   "cell_type": "markdown",
   "id": "348b9fbe",
   "metadata": {},
   "source": [
    "### STATISTICAL SUMMARY"
   ]
  },
  {
   "cell_type": "code",
   "execution_count": 13,
   "id": "8629e25a",
   "metadata": {},
   "outputs": [
    {
     "data": {
      "text/html": [
       "<div>\n",
       "<style scoped>\n",
       "    .dataframe tbody tr th:only-of-type {\n",
       "        vertical-align: middle;\n",
       "    }\n",
       "\n",
       "    .dataframe tbody tr th {\n",
       "        vertical-align: top;\n",
       "    }\n",
       "\n",
       "    .dataframe thead th {\n",
       "        text-align: right;\n",
       "    }\n",
       "</style>\n",
       "<table border=\"1\" class=\"dataframe\">\n",
       "  <thead>\n",
       "    <tr style=\"text-align: right;\">\n",
       "      <th></th>\n",
       "      <th>count</th>\n",
       "      <th>unique</th>\n",
       "      <th>top</th>\n",
       "      <th>freq</th>\n",
       "      <th>mean</th>\n",
       "      <th>std</th>\n",
       "      <th>min</th>\n",
       "      <th>25%</th>\n",
       "      <th>50%</th>\n",
       "      <th>75%</th>\n",
       "      <th>max</th>\n",
       "    </tr>\n",
       "  </thead>\n",
       "  <tbody>\n",
       "    <tr>\n",
       "      <th>App</th>\n",
       "      <td>10840</td>\n",
       "      <td>9659</td>\n",
       "      <td>ROBLOX</td>\n",
       "      <td>9</td>\n",
       "      <td>NaN</td>\n",
       "      <td>NaN</td>\n",
       "      <td>NaN</td>\n",
       "      <td>NaN</td>\n",
       "      <td>NaN</td>\n",
       "      <td>NaN</td>\n",
       "      <td>NaN</td>\n",
       "    </tr>\n",
       "    <tr>\n",
       "      <th>Category</th>\n",
       "      <td>10840</td>\n",
       "      <td>33</td>\n",
       "      <td>FAMILY</td>\n",
       "      <td>1972</td>\n",
       "      <td>NaN</td>\n",
       "      <td>NaN</td>\n",
       "      <td>NaN</td>\n",
       "      <td>NaN</td>\n",
       "      <td>NaN</td>\n",
       "      <td>NaN</td>\n",
       "      <td>NaN</td>\n",
       "    </tr>\n",
       "    <tr>\n",
       "      <th>Rating</th>\n",
       "      <td>9366.00</td>\n",
       "      <td>NaN</td>\n",
       "      <td>NaN</td>\n",
       "      <td>NaN</td>\n",
       "      <td>4.19</td>\n",
       "      <td>0.52</td>\n",
       "      <td>1.00</td>\n",
       "      <td>4.00</td>\n",
       "      <td>4.30</td>\n",
       "      <td>4.50</td>\n",
       "      <td>5.00</td>\n",
       "    </tr>\n",
       "    <tr>\n",
       "      <th>Reviews</th>\n",
       "      <td>10840.00</td>\n",
       "      <td>NaN</td>\n",
       "      <td>NaN</td>\n",
       "      <td>NaN</td>\n",
       "      <td>444152.90</td>\n",
       "      <td>2927760.60</td>\n",
       "      <td>0.00</td>\n",
       "      <td>38.00</td>\n",
       "      <td>2094.00</td>\n",
       "      <td>54775.50</td>\n",
       "      <td>78158306.00</td>\n",
       "    </tr>\n",
       "    <tr>\n",
       "      <th>Size</th>\n",
       "      <td>10840.00</td>\n",
       "      <td>NaN</td>\n",
       "      <td>NaN</td>\n",
       "      <td>NaN</td>\n",
       "      <td>31.24</td>\n",
       "      <td>91.81</td>\n",
       "      <td>0.00</td>\n",
       "      <td>3.10</td>\n",
       "      <td>10.00</td>\n",
       "      <td>28.00</td>\n",
       "      <td>1020.00</td>\n",
       "    </tr>\n",
       "    <tr>\n",
       "      <th>Installs</th>\n",
       "      <td>10840.00</td>\n",
       "      <td>NaN</td>\n",
       "      <td>NaN</td>\n",
       "      <td>NaN</td>\n",
       "      <td>15464338.88</td>\n",
       "      <td>85029361.40</td>\n",
       "      <td>0.00</td>\n",
       "      <td>1000.00</td>\n",
       "      <td>100000.00</td>\n",
       "      <td>5000000.00</td>\n",
       "      <td>1000000000.00</td>\n",
       "    </tr>\n",
       "    <tr>\n",
       "      <th>Price</th>\n",
       "      <td>10840.00</td>\n",
       "      <td>NaN</td>\n",
       "      <td>NaN</td>\n",
       "      <td>NaN</td>\n",
       "      <td>1.03</td>\n",
       "      <td>15.95</td>\n",
       "      <td>0.00</td>\n",
       "      <td>0.00</td>\n",
       "      <td>0.00</td>\n",
       "      <td>0.00</td>\n",
       "      <td>400.00</td>\n",
       "    </tr>\n",
       "    <tr>\n",
       "      <th>Content Rating</th>\n",
       "      <td>10840</td>\n",
       "      <td>6</td>\n",
       "      <td>Everyone</td>\n",
       "      <td>8714</td>\n",
       "      <td>NaN</td>\n",
       "      <td>NaN</td>\n",
       "      <td>NaN</td>\n",
       "      <td>NaN</td>\n",
       "      <td>NaN</td>\n",
       "      <td>NaN</td>\n",
       "      <td>NaN</td>\n",
       "    </tr>\n",
       "  </tbody>\n",
       "</table>\n",
       "</div>"
      ],
      "text/plain": [
       "                  count unique       top  freq        mean         std  min  \\\n",
       "App               10840   9659    ROBLOX     9         NaN         NaN  NaN   \n",
       "Category          10840     33    FAMILY  1972         NaN         NaN  NaN   \n",
       "Rating          9366.00    NaN       NaN   NaN        4.19        0.52 1.00   \n",
       "Reviews        10840.00    NaN       NaN   NaN   444152.90  2927760.60 0.00   \n",
       "Size           10840.00    NaN       NaN   NaN       31.24       91.81 0.00   \n",
       "Installs       10840.00    NaN       NaN   NaN 15464338.88 85029361.40 0.00   \n",
       "Price          10840.00    NaN       NaN   NaN        1.03       15.95 0.00   \n",
       "Content Rating    10840      6  Everyone  8714         NaN         NaN  NaN   \n",
       "\n",
       "                   25%       50%        75%           max  \n",
       "App                NaN       NaN        NaN           NaN  \n",
       "Category           NaN       NaN        NaN           NaN  \n",
       "Rating            4.00      4.30       4.50          5.00  \n",
       "Reviews          38.00   2094.00   54775.50   78158306.00  \n",
       "Size              3.10     10.00      28.00       1020.00  \n",
       "Installs       1000.00 100000.00 5000000.00 1000000000.00  \n",
       "Price             0.00      0.00       0.00        400.00  \n",
       "Content Rating     NaN       NaN        NaN           NaN  "
      ]
     },
     "execution_count": 13,
     "metadata": {},
     "output_type": "execute_result"
    }
   ],
   "source": [
    "#display statistical summary for the columns in the dataset\n",
    "df.describe(include = 'all').T "
   ]
  },
  {
   "cell_type": "markdown",
   "id": "55ceef7b",
   "metadata": {},
   "source": [
    "- There are **9366** unique apps in the dataset.\n",
    "- There are **33** unique categories and **'Family'** has the most count.\n",
    "- The average rating is **4.19**;the median rating is **4.36**.\n",
    "- There is notable standard deviation in the reviews received.\n",
    "- The average size of apps on the platform is **31.24 KB**, which is significantly larger than the median size.\n",
    "- The maximum number of installs for an app is **one billion** which could be an outlier.\n",
    "- The average price of an app is approximately **one dollar**.\n",
    "- The content rating is represented in **six** unique categories with **'Everyone'** being the most frequent.\n",
    "- Some columns display NaN because they either have no unique result or are non-numeric variables."
   ]
  },
  {
   "cell_type": "markdown",
   "id": "069b29da",
   "metadata": {},
   "source": [
    "### MISSING VALUE TREATMENT"
   ]
  },
  {
   "cell_type": "code",
   "execution_count": 14,
   "id": "29708e15",
   "metadata": {},
   "outputs": [
    {
     "data": {
      "text/plain": [
       "App                  0\n",
       "Category             0\n",
       "Rating            1474\n",
       "Reviews              0\n",
       "Size                 0\n",
       "Installs             0\n",
       "Price                0\n",
       "Content Rating       0\n",
       "dtype: int64"
      ]
     },
     "execution_count": 14,
     "metadata": {},
     "output_type": "execute_result"
    }
   ],
   "source": [
    "#check for missing values\n",
    "df.isnull().sum() "
   ]
  },
  {
   "cell_type": "markdown",
   "id": "299b2687",
   "metadata": {},
   "source": [
    "- **1474** rows missing in the Rating column."
   ]
  },
  {
   "cell_type": "markdown",
   "id": "6f785fe6",
   "metadata": {},
   "source": [
    "#### COLUMN IMPUTATION"
   ]
  },
  {
   "cell_type": "code",
   "execution_count": 15,
   "id": "7ee8601e",
   "metadata": {},
   "outputs": [],
   "source": [
    "#Since the column mean is close to the column median, the missing values can be imputed with the column mean. \n",
    "df['Rating'] = df['Rating'].fillna(value = df['Rating'].mean())"
   ]
  },
  {
   "cell_type": "code",
   "execution_count": 16,
   "id": "abe1a99d",
   "metadata": {},
   "outputs": [
    {
     "data": {
      "text/plain": [
       "App               0\n",
       "Category          0\n",
       "Rating            0\n",
       "Reviews           0\n",
       "Size              0\n",
       "Installs          0\n",
       "Price             0\n",
       "Content Rating    0\n",
       "dtype: int64"
      ]
     },
     "execution_count": 16,
     "metadata": {},
     "output_type": "execute_result"
    }
   ],
   "source": [
    "#verify results of the imputation\n",
    "df.isnull().sum()"
   ]
  },
  {
   "cell_type": "code",
   "execution_count": 17,
   "id": "eaa35244",
   "metadata": {},
   "outputs": [
    {
     "data": {
      "text/html": [
       "<div>\n",
       "<style scoped>\n",
       "    .dataframe tbody tr th:only-of-type {\n",
       "        vertical-align: middle;\n",
       "    }\n",
       "\n",
       "    .dataframe tbody tr th {\n",
       "        vertical-align: top;\n",
       "    }\n",
       "\n",
       "    .dataframe thead th {\n",
       "        text-align: right;\n",
       "    }\n",
       "</style>\n",
       "<table border=\"1\" class=\"dataframe\">\n",
       "  <thead>\n",
       "    <tr style=\"text-align: right;\">\n",
       "      <th></th>\n",
       "      <th>count</th>\n",
       "      <th>mean</th>\n",
       "      <th>std</th>\n",
       "      <th>min</th>\n",
       "      <th>25%</th>\n",
       "      <th>50%</th>\n",
       "      <th>75%</th>\n",
       "      <th>max</th>\n",
       "    </tr>\n",
       "  </thead>\n",
       "  <tbody>\n",
       "    <tr>\n",
       "      <th>Rating</th>\n",
       "      <td>10840.00</td>\n",
       "      <td>4.19</td>\n",
       "      <td>0.48</td>\n",
       "      <td>1.00</td>\n",
       "      <td>4.10</td>\n",
       "      <td>4.20</td>\n",
       "      <td>4.50</td>\n",
       "      <td>5.00</td>\n",
       "    </tr>\n",
       "  </tbody>\n",
       "</table>\n",
       "</div>"
      ],
      "text/plain": [
       "          count  mean  std  min  25%  50%  75%  max\n",
       "Rating 10840.00  4.19 0.48 1.00 4.10 4.20 4.50 5.00"
      ]
     },
     "execution_count": 17,
     "metadata": {},
     "output_type": "execute_result"
    }
   ],
   "source": [
    "#verify the new statistical summary for the Rating column\n",
    "df[['Rating']].describe(include = 'all').T "
   ]
  },
  {
   "cell_type": "markdown",
   "id": "489bd27b",
   "metadata": {},
   "source": [
    "- Imputation was successful.\n",
    "- Insignificant imapact- Median reduced by 0.1 and Std increased by 0.04."
   ]
  },
  {
   "cell_type": "markdown",
   "id": "f76df8eb",
   "metadata": {},
   "source": [
    "### DATA ANALYSIS AND VISUALIZATION"
   ]
  },
  {
   "cell_type": "markdown",
   "id": "ff732ad7",
   "metadata": {},
   "source": [
    "### RATING"
   ]
  },
  {
   "cell_type": "code",
   "execution_count": 18,
   "id": "165f0fdb",
   "metadata": {},
   "outputs": [
    {
     "data": {
      "image/png": "[encoded data removed]",
      "text/plain": [
       "<Figure size 1000x600 with 1 Axes>"
      ]
     },
     "metadata": {},
     "output_type": "display_data"
    }
   ],
   "source": [
    "#size of the plot\n",
    "plt.figure(figsize = (10, 6))\n",
    "\n",
    "#Title of the graph\n",
    "plt.title('Distribution of Rating values')\n",
    "\n",
    "#aesthetics of the graph\n",
    "sns.set(style = \"darkgrid\")\n",
    "\n",
    "#create the histogram\n",
    "sns.histplot(df[\"Rating\"], kde = True, color = \"g\", alpha = 0.3, linewidth = 4.5, edgecolor = \"k\")\n",
    "\n",
    "#display the graph\n",
    "plt.show();"
   ]
  },
  {
   "cell_type": "code",
   "execution_count": 19,
   "id": "02e22fac",
   "metadata": {},
   "outputs": [
    {
     "data": {
      "text/html": [
       "<div>\n",
       "<style scoped>\n",
       "    .dataframe tbody tr th:only-of-type {\n",
       "        vertical-align: middle;\n",
       "    }\n",
       "\n",
       "    .dataframe tbody tr th {\n",
       "        vertical-align: top;\n",
       "    }\n",
       "\n",
       "    .dataframe thead th {\n",
       "        text-align: right;\n",
       "    }\n",
       "</style>\n",
       "<table border=\"1\" class=\"dataframe\">\n",
       "  <thead>\n",
       "    <tr style=\"text-align: right;\">\n",
       "      <th></th>\n",
       "      <th>Rating</th>\n",
       "    </tr>\n",
       "  </thead>\n",
       "  <tbody>\n",
       "    <tr>\n",
       "      <th>4.19</th>\n",
       "      <td>1474</td>\n",
       "    </tr>\n",
       "  </tbody>\n",
       "</table>\n",
       "</div>"
      ],
      "text/plain": [
       "      Rating\n",
       "4.19    1474"
      ]
     },
     "execution_count": 19,
     "metadata": {},
     "output_type": "execute_result"
    }
   ],
   "source": [
    "#peak rating\n",
    "pd.DataFrame(df['Rating'].value_counts().sort_values(ascending = False).head(1))"
   ]
  },
  {
   "cell_type": "markdown",
   "id": "c82b7afc",
   "metadata": {},
   "source": [
    "- Significantly right skewed distribution.\n",
    "- Concentration of values between 4.0 - 4.5 with a peak at approximately 4.2."
   ]
  },
  {
   "cell_type": "markdown",
   "id": "f2f86296",
   "metadata": {},
   "source": [
    "#### BOXPLOT OF RATINGS"
   ]
  },
  {
   "cell_type": "code",
   "execution_count": 20,
   "id": "c7e7253c",
   "metadata": {},
   "outputs": [
    {
     "data": {
      "image/png": "[encoded data removed]",
      "text/plain": [
       "<Figure size 640x480 with 1 Axes>"
      ]
     },
     "metadata": {},
     "output_type": "display_data"
    }
   ],
   "source": [
    "#create the boxplot\n",
    "sns.boxplot(data = df, x = df['Rating'], boxprops = {'color': 'green'})\n",
    "\n",
    "#label of the y-axis\n",
    "plt.xlabel('Ratings') \n",
    "\n",
    "#title of the graph\n",
    "plt.title('Boxplot of App Ratings') \n",
    "\n",
    "#display the graph\n",
    "plt.show; "
   ]
  },
  {
   "cell_type": "markdown",
   "id": "03421fa3",
   "metadata": {},
   "source": [
    "- Median value is approximately 4.2.\n",
    "- Outliers indicating relatively low values."
   ]
  },
  {
   "cell_type": "markdown",
   "id": "8395cdef",
   "metadata": {},
   "source": [
    "#### VIOLIN PLOT OF RATING"
   ]
  },
  {
   "cell_type": "code",
   "execution_count": 21,
   "id": "197e80f9",
   "metadata": {},
   "outputs": [
    {
     "data": {
      "image/png": "[encoded data removed]",
      "text/plain": [
       "<Figure size 640x480 with 1 Axes>"
      ]
     },
     "metadata": {},
     "output_type": "display_data"
    }
   ],
   "source": [
    "#title of the graph\n",
    "plt.title('Violin Plot of Rating')\n",
    "\n",
    "#create the violin plot\n",
    "sns.violinplot( x = df['Rating'], data=df);"
   ]
  },
  {
   "cell_type": "markdown",
   "id": "fc32929f",
   "metadata": {},
   "source": [
    "- Wide section of plot indicates concentration of values in that area.\n",
    "- Long tail indicates wide range of outliers."
   ]
  },
  {
   "cell_type": "markdown",
   "id": "e45698a5",
   "metadata": {},
   "source": [
    "#### Percentage of Dominant Range"
   ]
  },
  {
   "cell_type": "code",
   "execution_count": 22,
   "id": "a8622982",
   "metadata": {},
   "outputs": [
    {
     "name": "stdout",
     "output_type": "stream",
     "text": [
      "\u001b[1m 81.6 \u001b[0m % of the dataset falls within the dominant range.\n"
     ]
    }
   ],
   "source": [
    "#filter rows using dominant range\n",
    "rating_val = df[(df['Rating'] >= 4) & (df['Rating'] <= 5)]\n",
    "\n",
    "#display statement\n",
    "print('\\033[1m', round((rating_val.shape[0]/df.shape[0] * 100), 1), '\\033[0m', '% of the dataset falls within the dominant range.')"
   ]
  },
  {
   "cell_type": "markdown",
   "id": "c896112e",
   "metadata": {},
   "source": [
    "#### Products that have been atleast 4.5 rating, a billion installs and very high reviews"
   ]
  },
  {
   "cell_type": "code",
   "execution_count": 23,
   "id": "482a7532",
   "metadata": {},
   "outputs": [
    {
     "name": "stdout",
     "output_type": "stream",
     "text": [
      "Products in this category are: \u001b[1m Instagram , Subway Surfers and Google Photos .\u001b[0m\n"
     ]
    }
   ],
   "source": [
    "#filter that rows with atleast 4.5 rating and a billion installations\n",
    "good_perf = df[(df['Rating'] >=4.5) & (df['Installs'] == 1000000000)].sort_values(by = 'Reviews', ascending = False)\n",
    "\n",
    "#names of the products in the resulting table\n",
    "good_prod = good_perf['App'].unique()\n",
    "\n",
    "#display statement\n",
    "print('Products in this category are:','\\033[1m', good_prod[0], ',', good_prod[1], 'and', good_prod[2], '.\\033[0m')"
   ]
  },
  {
   "cell_type": "markdown",
   "id": "13d6a5f7",
   "metadata": {},
   "source": [
    "#### Products that have a perfect rating"
   ]
  },
  {
   "cell_type": "code",
   "execution_count": 24,
   "id": "ef653ea9",
   "metadata": {},
   "outputs": [
    {
     "name": "stdout",
     "output_type": "stream",
     "text": [
      "There are \u001b[1m 274 \u001b[0m products with perfect rating.\n",
      "Products that have a perfect rating occupy \u001b[1m 2.5 \u001b[0m % of this category.\n"
     ]
    }
   ],
   "source": [
    "#divide number of rows with perfect rating by total number of rows and multiply by 100\n",
    "perf_rating = round((df[df['Rating'] == 5].shape[0]) / (df.shape[0]), 3) * 100\n",
    "\n",
    "#display statement\n",
    "print('There are','\\033[1m',df[df['Rating'] == 5].shape[0],'\\033[0m','products with perfect rating.')\n",
    "\n",
    "#display statement\n",
    "print('Products that have a perfect rating occupy','\\033[1m',perf_rating,'\\033[0m','% of this category.')"
   ]
  },
  {
   "cell_type": "markdown",
   "id": "d2585f37",
   "metadata": {},
   "source": [
    "#### Some products with perfect rating"
   ]
  },
  {
   "cell_type": "code",
   "execution_count": 25,
   "id": "a1277744",
   "metadata": {},
   "outputs": [
    {
     "data": {
      "text/html": [
       "<div>\n",
       "<style scoped>\n",
       "    .dataframe tbody tr th:only-of-type {\n",
       "        vertical-align: middle;\n",
       "    }\n",
       "\n",
       "    .dataframe tbody tr th {\n",
       "        vertical-align: top;\n",
       "    }\n",
       "\n",
       "    .dataframe thead th {\n",
       "        text-align: right;\n",
       "    }\n",
       "</style>\n",
       "<table border=\"1\" class=\"dataframe\">\n",
       "  <thead>\n",
       "    <tr style=\"text-align: right;\">\n",
       "      <th></th>\n",
       "      <th>App</th>\n",
       "      <th>Category</th>\n",
       "      <th>Rating</th>\n",
       "      <th>Reviews</th>\n",
       "      <th>Size</th>\n",
       "      <th>Installs</th>\n",
       "      <th>Price</th>\n",
       "      <th>Content Rating</th>\n",
       "    </tr>\n",
       "  </thead>\n",
       "  <tbody>\n",
       "    <tr>\n",
       "      <th>329</th>\n",
       "      <td>Hojiboy Tojiboyev Life Hacks</td>\n",
       "      <td>COMICS</td>\n",
       "      <td>5.00</td>\n",
       "      <td>15.00</td>\n",
       "      <td>37.00</td>\n",
       "      <td>1000.00</td>\n",
       "      <td>0.00</td>\n",
       "      <td>Everyone</td>\n",
       "    </tr>\n",
       "    <tr>\n",
       "      <th>612</th>\n",
       "      <td>American Girls Mobile Numbers</td>\n",
       "      <td>DATING</td>\n",
       "      <td>5.00</td>\n",
       "      <td>5.00</td>\n",
       "      <td>4.40</td>\n",
       "      <td>1000.00</td>\n",
       "      <td>0.00</td>\n",
       "      <td>Mature 17+</td>\n",
       "    </tr>\n",
       "    <tr>\n",
       "      <th>615</th>\n",
       "      <td>Awake Dating</td>\n",
       "      <td>DATING</td>\n",
       "      <td>5.00</td>\n",
       "      <td>2.00</td>\n",
       "      <td>70.00</td>\n",
       "      <td>100.00</td>\n",
       "      <td>0.00</td>\n",
       "      <td>Mature 17+</td>\n",
       "    </tr>\n",
       "  </tbody>\n",
       "</table>\n",
       "</div>"
      ],
      "text/plain": [
       "                               App Category  Rating  Reviews  Size  Installs  \\\n",
       "329   Hojiboy Tojiboyev Life Hacks   COMICS    5.00    15.00 37.00   1000.00   \n",
       "612  American Girls Mobile Numbers   DATING    5.00     5.00  4.40   1000.00   \n",
       "615                   Awake Dating   DATING    5.00     2.00 70.00    100.00   \n",
       "\n",
       "     Price Content Rating  \n",
       "329   0.00       Everyone  \n",
       "612   0.00     Mature 17+  \n",
       "615   0.00     Mature 17+  "
      ]
     },
     "execution_count": 25,
     "metadata": {},
     "output_type": "execute_result"
    }
   ],
   "source": [
    "#filter three products with perfect rating\n",
    "df[df['Rating'] == 5].head(3)"
   ]
  },
  {
   "cell_type": "markdown",
   "id": "796e260e",
   "metadata": {},
   "source": [
    "- Perfect rating but relatively low installs."
   ]
  },
  {
   "cell_type": "markdown",
   "id": "e8f3745c",
   "metadata": {},
   "source": [
    "#### Products with perfect rating and above mean installs"
   ]
  },
  {
   "cell_type": "code",
   "execution_count": 26,
   "id": "2a8f3eb2",
   "metadata": {},
   "outputs": [
    {
     "data": {
      "text/html": [
       "<div>\n",
       "<style scoped>\n",
       "    .dataframe tbody tr th:only-of-type {\n",
       "        vertical-align: middle;\n",
       "    }\n",
       "\n",
       "    .dataframe tbody tr th {\n",
       "        vertical-align: top;\n",
       "    }\n",
       "\n",
       "    .dataframe thead th {\n",
       "        text-align: right;\n",
       "    }\n",
       "</style>\n",
       "<table border=\"1\" class=\"dataframe\">\n",
       "  <thead>\n",
       "    <tr style=\"text-align: right;\">\n",
       "      <th></th>\n",
       "      <th>App</th>\n",
       "      <th>Category</th>\n",
       "      <th>Rating</th>\n",
       "      <th>Reviews</th>\n",
       "      <th>Size</th>\n",
       "      <th>Installs</th>\n",
       "      <th>Price</th>\n",
       "      <th>Content Rating</th>\n",
       "    </tr>\n",
       "  </thead>\n",
       "  <tbody>\n",
       "  </tbody>\n",
       "</table>\n",
       "</div>"
      ],
      "text/plain": [
       "Empty DataFrame\n",
       "Columns: [App, Category, Rating, Reviews, Size, Installs, Price, Content Rating]\n",
       "Index: []"
      ]
     },
     "execution_count": 26,
     "metadata": {},
     "output_type": "execute_result"
    }
   ],
   "source": [
    "df[(df['Rating'] == 5) & df['Installs'] >= df['Installs'].mean()]"
   ]
  },
  {
   "cell_type": "markdown",
   "id": "1ed722d5",
   "metadata": {},
   "source": [
    "- There are **NO** apps with perfect rating and above mean number of installations."
   ]
  },
  {
   "cell_type": "markdown",
   "id": "e4465be8",
   "metadata": {},
   "source": [
    "### REVIEWS"
   ]
  },
  {
   "cell_type": "code",
   "execution_count": 27,
   "id": "4fcbef67",
   "metadata": {},
   "outputs": [
    {
     "data": {
      "image/png": "[encoded data removed]",
      "text/plain": [
       "<Figure size 1000x600 with 1 Axes>"
      ]
     },
     "metadata": {},
     "output_type": "display_data"
    }
   ],
   "source": [
    "#size of the plot\n",
    "plt.figure(figsize = (10,6))\n",
    "\n",
    "#title of the graph\n",
    "plt.title('Distribution of Reviews values')\n",
    "\n",
    "#aesthetics of the graph\n",
    "sns.set(style = \"darkgrid\")\n",
    "\n",
    "#create the histogram\n",
    "sns.histplot(df[\"Reviews\"],kde = True, color = \"g\", alpha = 0.1, linewidth = 4.5, edgecolor = \"k\")\n",
    "\n",
    "#display the graph\n",
    "plt.show();"
   ]
  },
  {
   "cell_type": "markdown",
   "id": "6ef412af",
   "metadata": {},
   "source": [
    "- Significantly right skewed distribution.\n",
    "- Presence of outliers could be inferred from thin line along the x-axis."
   ]
  },
  {
   "cell_type": "markdown",
   "id": "76935f64",
   "metadata": {},
   "source": [
    "#### KDE PLOT OF REVIEWS"
   ]
  },
  {
   "cell_type": "code",
   "execution_count": 28,
   "id": "7000d22e",
   "metadata": {},
   "outputs": [
    {
     "data": {
      "image/png": "[encoded data removed]",
      "text/plain": [
       "<Figure size 640x480 with 1 Axes>"
      ]
     },
     "metadata": {},
     "output_type": "display_data"
    }
   ],
   "source": [
    "#title of the plot\n",
    "plt.title('Kde Plot of Reviews')\n",
    "\n",
    "#create the kdeplot\n",
    "sns.kdeplot(df['Reviews'], fill = True, bw_method = 0.5, color = \"olive\") \n",
    "\n",
    "#display the graph\n",
    "plt.show();"
   ]
  },
  {
   "cell_type": "markdown",
   "id": "33dd8544",
   "metadata": {},
   "source": [
    "- The extension at the boundary is not important for the visualisation so will be corrected using either truncation or reflection."
   ]
  },
  {
   "cell_type": "markdown",
   "id": "92fe68a6",
   "metadata": {},
   "source": [
    "#### REVIEWS (TRUNCATION)"
   ]
  },
  {
   "cell_type": "code",
   "execution_count": 29,
   "id": "acec1414",
   "metadata": {},
   "outputs": [
    {
     "data": {
      "image/png": "[encoded data removed]",
      "text/plain": [
       "<Figure size 640x480 with 1 Axes>"
      ]
     },
     "metadata": {},
     "output_type": "display_data"
    }
   ],
   "source": [
    "#title of plot\n",
    "plt.title('Kde Plot of Reviews')\n",
    "\n",
    "#set the cut parameter to implement truncation of values below zero\n",
    "sns.kdeplot(df['Reviews'], fill = True, bw_method = 0.5, color = \"olive\", cut = 0) \n",
    "\n",
    "#display graph\n",
    "plt.show()"
   ]
  },
  {
   "cell_type": "markdown",
   "id": "19fa264e",
   "metadata": {},
   "source": [
    "#### REVIEWS (REFLECTION)"
   ]
  },
  {
   "cell_type": "code",
   "execution_count": 30,
   "id": "88acf3a8",
   "metadata": {},
   "outputs": [
    {
     "data": {
      "image/png": "[encoded data removed]",
      "text/plain": [
       "<Figure size 640x480 with 1 Axes>"
      ]
     },
     "metadata": {},
     "output_type": "display_data"
    }
   ],
   "source": [
    "#library for implementing kde to series\n",
    "from scipy.stats import gaussian_kde\n",
    "\n",
    "#Filter reviews column from dataframe\n",
    "df_rev = df['Reviews']\n",
    "\n",
    "# Compute KDE estimation using scipy.stats\n",
    "k = gaussian_kde(df_rev)\n",
    "\n",
    "# Get the estimated density values\n",
    "x = np.linspace(df_rev.min(), df_rev.max(), len(df_rev))\n",
    "y = k.evaluate(x)\n",
    "\n",
    "# Reflect the negative part of the density\n",
    "y_reflected = np.abs(np.concatenate((y[::-1], y)))\n",
    "x_reflected = np.concatenate((-x[::-1], x))\n",
    "\n",
    "# Create a plot with the reflected density\n",
    "plt.plot(x_reflected, y_reflected)\n",
    "\n",
    "# Add labels and title\n",
    "plt.xlabel(\"Reviews\")\n",
    "plt.ylabel(\"Density\")\n",
    "plt.title(\"Reflected KDE Plot\")\n",
    "\n",
    "# Display the plot\n",
    "plt.show();"
   ]
  },
  {
   "cell_type": "markdown",
   "id": "2bfd8779",
   "metadata": {},
   "source": [
    "- The truncated plot is better for the purpose of this analysis so will be chosen for visualisation."
   ]
  },
  {
   "cell_type": "markdown",
   "id": "0290cc8f",
   "metadata": {},
   "source": [
    "#### BOXPLOT OF REVIEWS"
   ]
  },
  {
   "cell_type": "code",
   "execution_count": 31,
   "id": "88b02cee",
   "metadata": {},
   "outputs": [
    {
     "data": {
      "image/png": "[encoded data removed]",
      "text/plain": [
       "<Figure size 640x480 with 1 Axes>"
      ]
     },
     "metadata": {},
     "output_type": "display_data"
    }
   ],
   "source": [
    "#create the boxplot\n",
    "sns.boxplot(data = df, x = df['Reviews'])\n",
    "\n",
    "#label of the y-axis\n",
    "plt.xlabel('Reviews')\n",
    "\n",
    "#title of the graph\n",
    "plt.title('Boxplot of App Reviews')\n",
    "\n",
    "#display of the graph\n",
    "plt.show();"
   ]
  },
  {
   "cell_type": "markdown",
   "id": "a214f636",
   "metadata": {},
   "source": [
    "- Significant concentration of outliers indicating large volume of products with very high number of reviews."
   ]
  },
  {
   "cell_type": "markdown",
   "id": "e09bc10c",
   "metadata": {},
   "source": [
    "#### VIOLIN PLOT OF REVIEWS"
   ]
  },
  {
   "cell_type": "code",
   "execution_count": 32,
   "id": "135cb5cb",
   "metadata": {},
   "outputs": [
    {
     "data": {
      "image/png": "[encoded data removed]",
      "text/plain": [
       "<Figure size 640x480 with 1 Axes>"
      ]
     },
     "metadata": {},
     "output_type": "display_data"
    }
   ],
   "source": [
    "#violin plot of the reviews\n",
    "plt.title('Violin Plot Distribution')\n",
    "\n",
    "#create violin plot\n",
    "sns.violinplot( x = df['Reviews'], data = df)\n",
    "\n",
    "#display graph\n",
    "plt.show();"
   ]
  },
  {
   "cell_type": "markdown",
   "id": "334fc1f6",
   "metadata": {},
   "source": [
    "- Wide section emphasizes concentration of values at that area.\n",
    "- Slight extension behind lower limit due to smoothing process. Rectified by Truncation or Reflection."
   ]
  },
  {
   "cell_type": "markdown",
   "id": "48efc1f1",
   "metadata": {},
   "source": [
    "#### Some Products with Low Reviews"
   ]
  },
  {
   "cell_type": "code",
   "execution_count": 33,
   "id": "4c829b29",
   "metadata": {},
   "outputs": [
    {
     "data": {
      "text/html": [
       "<div>\n",
       "<style scoped>\n",
       "    .dataframe tbody tr th:only-of-type {\n",
       "        vertical-align: middle;\n",
       "    }\n",
       "\n",
       "    .dataframe tbody tr th {\n",
       "        vertical-align: top;\n",
       "    }\n",
       "\n",
       "    .dataframe thead th {\n",
       "        text-align: right;\n",
       "    }\n",
       "</style>\n",
       "<table border=\"1\" class=\"dataframe\">\n",
       "  <thead>\n",
       "    <tr style=\"text-align: right;\">\n",
       "      <th></th>\n",
       "      <th>App</th>\n",
       "      <th>Reviews</th>\n",
       "    </tr>\n",
       "  </thead>\n",
       "  <tbody>\n",
       "    <tr>\n",
       "      <th>6665</th>\n",
       "      <td>BAR-B-Q Recipes</td>\n",
       "      <td>0.00</td>\n",
       "    </tr>\n",
       "    <tr>\n",
       "      <th>7732</th>\n",
       "      <td>SHUTTLLS CQ - Connect Ride Go</td>\n",
       "      <td>0.00</td>\n",
       "    </tr>\n",
       "    <tr>\n",
       "      <th>7735</th>\n",
       "      <td>CQ Ukraine</td>\n",
       "      <td>0.00</td>\n",
       "    </tr>\n",
       "  </tbody>\n",
       "</table>\n",
       "</div>"
      ],
      "text/plain": [
       "                                App  Reviews\n",
       "6665                BAR-B-Q Recipes     0.00\n",
       "7732  SHUTTLLS CQ - Connect Ride Go     0.00\n",
       "7735                     CQ Ukraine     0.00"
      ]
     },
     "execution_count": 33,
     "metadata": {},
     "output_type": "execute_result"
    }
   ],
   "source": [
    "df.sort_values('Reviews', ascending = True).head(3).iloc[:, [0, 3]]"
   ]
  },
  {
   "cell_type": "markdown",
   "id": "8a06334a",
   "metadata": {},
   "source": [
    "#### Top Five Products with Most Reviews"
   ]
  },
  {
   "cell_type": "code",
   "execution_count": 34,
   "id": "b28110e2",
   "metadata": {},
   "outputs": [
    {
     "name": "stdout",
     "output_type": "stream",
     "text": [
      "Products with the most reviews are:\n",
      "\t• \u001b[1mFacebook\u001b[0m\n",
      "\t• \u001b[1mWhatsApp Messenger\u001b[0m\n",
      "\t• \u001b[1mInstagram\u001b[0m\n",
      "\t• \u001b[1mMessenger – Text and Video Chat for Free\u001b[0m\n",
      "\t• \u001b[1mClash of Clans\u001b[0m\n"
     ]
    }
   ],
   "source": [
    "#sort the reviews column in descending order and filter the top 10 rows of the App and Reviews columns\n",
    "top_rev = df[df['Reviews'] >= df['Reviews'].mean()].sort_values(by = 'Reviews', ascending = False)\n",
    "\n",
    "#filter the unique values from the top_rev dataframe and return the first 10 values\n",
    "top_rev_prod = top_rev['App'].unique()[:6]\n",
    "\n",
    "#display statement\n",
    "print(\"Products with the most reviews are:\")\n",
    "for product in (top_rev_prod[:5]):\n",
    "    print(f'\\t\\u2022 \\033[1m{product}\\033[0m')"
   ]
  },
  {
   "cell_type": "markdown",
   "id": "54ee4e3a",
   "metadata": {},
   "source": [
    "#### Percentage of Products with Above Average Number of Reviews"
   ]
  },
  {
   "cell_type": "code",
   "execution_count": 35,
   "id": "fdc59a32",
   "metadata": {},
   "outputs": [
    {
     "name": "stdout",
     "output_type": "stream",
     "text": [
      "\u001b[1m 10.2 \u001b[0m % of products have above average reviews.\n"
     ]
    }
   ],
   "source": [
    "perc_rev = round((df[df['Reviews'] >= df['Reviews'].mean()].shape[0] / df.shape[0]) * 100, 1)\n",
    "\n",
    "#display statement\n",
    "print('\\033[1m',perc_rev,'\\033[0m','% of products have above average reviews.')"
   ]
  },
  {
   "cell_type": "markdown",
   "id": "1261126e",
   "metadata": {},
   "source": [
    "#### Products with high number of reviews and above average rating"
   ]
  },
  {
   "cell_type": "code",
   "execution_count": 36,
   "id": "bfe989c1",
   "metadata": {},
   "outputs": [
    {
     "data": {
      "text/html": [
       "<div>\n",
       "<style scoped>\n",
       "    .dataframe tbody tr th:only-of-type {\n",
       "        vertical-align: middle;\n",
       "    }\n",
       "\n",
       "    .dataframe tbody tr th {\n",
       "        vertical-align: top;\n",
       "    }\n",
       "\n",
       "    .dataframe thead th {\n",
       "        text-align: right;\n",
       "    }\n",
       "</style>\n",
       "<table border=\"1\" class=\"dataframe\">\n",
       "  <thead>\n",
       "    <tr style=\"text-align: right;\">\n",
       "      <th></th>\n",
       "      <th>App</th>\n",
       "      <th>Category</th>\n",
       "      <th>Rating</th>\n",
       "      <th>Reviews</th>\n",
       "      <th>Size</th>\n",
       "      <th>Installs</th>\n",
       "      <th>Price</th>\n",
       "      <th>Content Rating</th>\n",
       "    </tr>\n",
       "  </thead>\n",
       "  <tbody>\n",
       "  </tbody>\n",
       "</table>\n",
       "</div>"
      ],
      "text/plain": [
       "Empty DataFrame\n",
       "Columns: [App, Category, Rating, Reviews, Size, Installs, Price, Content Rating]\n",
       "Index: []"
      ]
     },
     "execution_count": 36,
     "metadata": {},
     "output_type": "execute_result"
    }
   ],
   "source": [
    "#filter rows based on specified condition\n",
    "df[(df['Reviews'] >= df['Reviews'].max()) & (df['Rating'] >= df['Rating'].mean())]"
   ]
  },
  {
   "cell_type": "markdown",
   "id": "4a5bb23f",
   "metadata": {},
   "source": [
    "- No products with at least maximum number of reviews and above mean rating."
   ]
  },
  {
   "cell_type": "markdown",
   "id": "92067fa3",
   "metadata": {},
   "source": [
    "#### Products with above average number of reviews and high rating"
   ]
  },
  {
   "cell_type": "code",
   "execution_count": 37,
   "id": "0ebe3253",
   "metadata": {},
   "outputs": [
    {
     "data": {
      "text/html": [
       "<div>\n",
       "<style scoped>\n",
       "    .dataframe tbody tr th:only-of-type {\n",
       "        vertical-align: middle;\n",
       "    }\n",
       "\n",
       "    .dataframe tbody tr th {\n",
       "        vertical-align: top;\n",
       "    }\n",
       "\n",
       "    .dataframe thead th {\n",
       "        text-align: right;\n",
       "    }\n",
       "</style>\n",
       "<table border=\"1\" class=\"dataframe\">\n",
       "  <thead>\n",
       "    <tr style=\"text-align: right;\">\n",
       "      <th></th>\n",
       "      <th>App</th>\n",
       "      <th>Category</th>\n",
       "      <th>Rating</th>\n",
       "      <th>Reviews</th>\n",
       "      <th>Size</th>\n",
       "      <th>Installs</th>\n",
       "      <th>Price</th>\n",
       "      <th>Content Rating</th>\n",
       "    </tr>\n",
       "  </thead>\n",
       "  <tbody>\n",
       "  </tbody>\n",
       "</table>\n",
       "</div>"
      ],
      "text/plain": [
       "Empty DataFrame\n",
       "Columns: [App, Category, Rating, Reviews, Size, Installs, Price, Content Rating]\n",
       "Index: []"
      ]
     },
     "execution_count": 37,
     "metadata": {},
     "output_type": "execute_result"
    }
   ],
   "source": [
    "#filter rows based on specified conditions\n",
    "df[(df['Reviews'] >= df['Reviews'].mean()) & (df['Rating'] >= df['Rating'].max())]"
   ]
  },
  {
   "cell_type": "markdown",
   "id": "e5b3c916",
   "metadata": {},
   "source": [
    "- No products with at least mean number of reviews and perfect rating."
   ]
  },
  {
   "cell_type": "markdown",
   "id": "812a7a3a",
   "metadata": {},
   "source": [
    "#### Top Products with Above Average Number of Reviews and Above Average Rating"
   ]
  },
  {
   "cell_type": "code",
   "execution_count": 38,
   "id": "47fc3f30",
   "metadata": {},
   "outputs": [
    {
     "name": "stdout",
     "output_type": "stream",
     "text": [
      "Products with the above mean reviews and rating are:\n",
      "\t• \u001b[1mWhatsApp Messenger\u001b[0m\n",
      "\t• \u001b[1mInstagram\u001b[0m\n",
      "\t• \u001b[1mClash of Clans\u001b[0m\n",
      "\t• \u001b[1mClean Master- Space Cleaner & Antivirus\u001b[0m\n",
      "\t• \u001b[1mSubway Surfers\u001b[0m\n"
     ]
    }
   ],
   "source": [
    "#filter rows based on condition and sort by reviews; arrange in descending order\n",
    "rev_rat = df[(df['Reviews'] >= df['Reviews'].mean()) & (df['Rating'] >= df['Rating'].mean())].sort_values(by = 'Reviews',ascending = False)\n",
    "\n",
    "#names of the products\n",
    "best_rev_rat = rev_rat['App'].unique()[:6]\n",
    "\n",
    "#display statement\n",
    "print(\"Products with the above mean reviews and rating are:\")\n",
    "for val in (best_rev_rat[:5]):\n",
    "    print(f'\\t\\u2022 \\033[1m{val}\\033[0m')"
   ]
  },
  {
   "cell_type": "markdown",
   "id": "66836868",
   "metadata": {},
   "source": [
    "#### Bar Graph of Top Six Products by Reviews and Ratings"
   ]
  },
  {
   "cell_type": "code",
   "execution_count": 39,
   "id": "d32a4670",
   "metadata": {},
   "outputs": [
    {
     "data": {
      "image/png": "[encoded data removed]",
      "text/plain": [
       "<Figure size 1000x600 with 1 Axes>"
      ]
     },
     "metadata": {},
     "output_type": "display_data"
    }
   ],
   "source": [
    "#top six products with great rating and reviews\n",
    "top_rev_rat = rev_rat.iloc[: , [0,3]].groupby('App').mean().sort_values(by = 'Reviews', ascending = False).head(6)\n",
    "\n",
    "#size of plot\n",
    "plt.figure(figsize=(10, 6))\n",
    "\n",
    "#create bar graph\n",
    "sns.barplot(y = top_rev_rat.index, x = 'Reviews', data = top_rev_rat)\n",
    "\n",
    "#x-axis title\n",
    "plt.xlabel('App')\n",
    "\n",
    "#y-axis title\n",
    "plt.ylabel('Average Reviews')\n",
    "\n",
    "#title of plot\n",
    "plt.title('Top 6 Apps by Average Reviews')\n",
    "\n",
    "#Displaying the plot\n",
    "plt.show()"
   ]
  },
  {
   "cell_type": "markdown",
   "id": "4ff716a9",
   "metadata": {},
   "source": [
    "### SIZE"
   ]
  },
  {
   "cell_type": "code",
   "execution_count": 40,
   "id": "642efeb7",
   "metadata": {},
   "outputs": [
    {
     "data": {
      "image/png": "[encoded data removed]",
      "text/plain": [
       "<Figure size 640x480 with 1 Axes>"
      ]
     },
     "metadata": {},
     "output_type": "display_data"
    }
   ],
   "source": [
    "#create histogram\n",
    "sns.histplot(df[\"Size\"], kde=True, color = \"g\", alpha = 0.25, linewidth = 4.5, edgecolor = \"k\")\n",
    "\n",
    "#title of the plot\n",
    "plt.title('Histogram of Size')\n",
    "\n",
    "#title of x-axis\n",
    "plt.xlabel('Size of product in KB')\n",
    "\n",
    "#display graph\n",
    "plt.show()"
   ]
  },
  {
   "cell_type": "markdown",
   "id": "50a710b5",
   "metadata": {},
   "source": [
    "- The distribution shows a right skewed data. Most products fall in the range of 'Varies with device' and 100 KB\n",
    "- Hint of presence of outliers as seen in line along the x-axis."
   ]
  },
  {
   "cell_type": "markdown",
   "id": "94daa0f6",
   "metadata": {},
   "source": [
    "#### Frequency of app sizes"
   ]
  },
  {
   "cell_type": "code",
   "execution_count": 41,
   "id": "1f08806f",
   "metadata": {},
   "outputs": [
    {
     "data": {
      "text/html": [
       "<div>\n",
       "<style scoped>\n",
       "    .dataframe tbody tr th:only-of-type {\n",
       "        vertical-align: middle;\n",
       "    }\n",
       "\n",
       "    .dataframe tbody tr th {\n",
       "        vertical-align: top;\n",
       "    }\n",
       "\n",
       "    .dataframe thead th {\n",
       "        text-align: right;\n",
       "    }\n",
       "</style>\n",
       "<table border=\"1\" class=\"dataframe\">\n",
       "  <thead>\n",
       "    <tr style=\"text-align: right;\">\n",
       "      <th></th>\n",
       "      <th>Size</th>\n",
       "    </tr>\n",
       "  </thead>\n",
       "  <tbody>\n",
       "    <tr>\n",
       "      <th>0.00</th>\n",
       "      <td>1695</td>\n",
       "    </tr>\n",
       "    <tr>\n",
       "      <th>11.00</th>\n",
       "      <td>199</td>\n",
       "    </tr>\n",
       "    <tr>\n",
       "      <th>12.00</th>\n",
       "      <td>196</td>\n",
       "    </tr>\n",
       "    <tr>\n",
       "      <th>14.00</th>\n",
       "      <td>195</td>\n",
       "    </tr>\n",
       "    <tr>\n",
       "      <th>13.00</th>\n",
       "      <td>191</td>\n",
       "    </tr>\n",
       "  </tbody>\n",
       "</table>\n",
       "</div>"
      ],
      "text/plain": [
       "       Size\n",
       "0.00   1695\n",
       "11.00   199\n",
       "12.00   196\n",
       "14.00   195\n",
       "13.00   191"
      ]
     },
     "execution_count": 41,
     "metadata": {},
     "output_type": "execute_result"
    }
   ],
   "source": [
    "#frequency of product sizes and arrange in descending order; display top five\n",
    "pd.DataFrame(df['Size'].value_counts().sort_values(ascending = False).head())"
   ]
  },
  {
   "cell_type": "markdown",
   "id": "9e4993ae",
   "metadata": {},
   "source": [
    "- Zero here represents the category *'Varies with device'* and NOT an actual value. It was converted to a numeric value in the data cleaning to enhance the analysis."
   ]
  },
  {
   "cell_type": "markdown",
   "id": "97ad787d",
   "metadata": {},
   "source": [
    "#### KDE PLOT OF SIZE"
   ]
  },
  {
   "cell_type": "code",
   "execution_count": 42,
   "id": "a18bebd8",
   "metadata": {},
   "outputs": [
    {
     "data": {
      "image/png": "[encoded data removed]",
      "text/plain": [
       "<Figure size 640x480 with 1 Axes>"
      ]
     },
     "metadata": {},
     "output_type": "display_data"
    }
   ],
   "source": [
    "#title of plot\n",
    "plt.title('Kde Plot of Size')\n",
    "\n",
    "#set the cut parameter to implement truncation of values below zero\n",
    "sns.kdeplot(df['Size'], fill = True, bw_method = 0.5, color = \"olive\", cut = 0) \n",
    "\n",
    "#display graph\n",
    "plt.show();"
   ]
  },
  {
   "cell_type": "markdown",
   "id": "b0becf71",
   "metadata": {},
   "source": [
    "- Concentration of values between 'Varies with Device' and 200 Kb."
   ]
  },
  {
   "cell_type": "markdown",
   "id": "df414cdf",
   "metadata": {},
   "source": [
    "#### BOXPLOT OF SIZE"
   ]
  },
  {
   "cell_type": "code",
   "execution_count": 43,
   "id": "e965e865",
   "metadata": {},
   "outputs": [
    {
     "data": {
      "image/png": "[encoded data removed]",
      "text/plain": [
       "<Figure size 640x480 with 1 Axes>"
      ]
     },
     "metadata": {},
     "output_type": "display_data"
    }
   ],
   "source": [
    "#create the boxplot\n",
    "sns.boxplot(data = df, x = df['Size']) \n",
    "\n",
    "#label of the y-axis\n",
    "plt.xlabel('Size in Kb') \n",
    "\n",
    "#title of the graph\n",
    "plt.title('Boxplot of App Sizes') \n",
    "\n",
    "#display the graph\n",
    "plt.show; "
   ]
  },
  {
   "cell_type": "markdown",
   "id": "5c4435e6",
   "metadata": {},
   "source": [
    "- Significant presence of outliers.\n",
    "- Products as large as 1000 Kb present in dataset."
   ]
  },
  {
   "cell_type": "markdown",
   "id": "6b1303c0",
   "metadata": {},
   "source": [
    "#### Large Products"
   ]
  },
  {
   "cell_type": "code",
   "execution_count": 44,
   "id": "d83cd31b",
   "metadata": {},
   "outputs": [
    {
     "data": {
      "text/html": [
       "<div>\n",
       "<style scoped>\n",
       "    .dataframe tbody tr th:only-of-type {\n",
       "        vertical-align: middle;\n",
       "    }\n",
       "\n",
       "    .dataframe tbody tr th {\n",
       "        vertical-align: top;\n",
       "    }\n",
       "\n",
       "    .dataframe thead th {\n",
       "        text-align: right;\n",
       "    }\n",
       "</style>\n",
       "<table border=\"1\" class=\"dataframe\">\n",
       "  <thead>\n",
       "    <tr style=\"text-align: right;\">\n",
       "      <th></th>\n",
       "      <th>App</th>\n",
       "      <th>Size</th>\n",
       "    </tr>\n",
       "  </thead>\n",
       "  <tbody>\n",
       "    <tr>\n",
       "      <th>10798</th>\n",
       "      <td>Word Search Tab 1 FR</td>\n",
       "      <td>1020.00</td>\n",
       "    </tr>\n",
       "    <tr>\n",
       "      <th>8883</th>\n",
       "      <td>DTPay</td>\n",
       "      <td>994.00</td>\n",
       "    </tr>\n",
       "    <tr>\n",
       "      <th>10402</th>\n",
       "      <td>FH Calculator</td>\n",
       "      <td>992.00</td>\n",
       "    </tr>\n",
       "    <tr>\n",
       "      <th>7868</th>\n",
       "      <td>CT - DTC Lookup</td>\n",
       "      <td>986.00</td>\n",
       "    </tr>\n",
       "    <tr>\n",
       "      <th>6798</th>\n",
       "      <td>Battery Notifier BT Free</td>\n",
       "      <td>982.00</td>\n",
       "    </tr>\n",
       "  </tbody>\n",
       "</table>\n",
       "</div>"
      ],
      "text/plain": [
       "                            App    Size\n",
       "10798      Word Search Tab 1 FR 1020.00\n",
       "8883                      DTPay  994.00\n",
       "10402             FH Calculator  992.00\n",
       "7868            CT - DTC Lookup  986.00\n",
       "6798   Battery Notifier BT Free  982.00"
      ]
     },
     "execution_count": 44,
     "metadata": {},
     "output_type": "execute_result"
    }
   ],
   "source": [
    "#sort size column in descending order and filter app and size column\n",
    "df.sort_values('Size', ascending = False).head().iloc[:, [0, 4]]"
   ]
  },
  {
   "cell_type": "markdown",
   "id": "bf899c2a",
   "metadata": {},
   "source": [
    "#### Large Products with High Installations"
   ]
  },
  {
   "cell_type": "code",
   "execution_count": 45,
   "id": "a1dda786",
   "metadata": {},
   "outputs": [
    {
     "data": {
      "text/html": [
       "<div>\n",
       "<style scoped>\n",
       "    .dataframe tbody tr th:only-of-type {\n",
       "        vertical-align: middle;\n",
       "    }\n",
       "\n",
       "    .dataframe tbody tr th {\n",
       "        vertical-align: top;\n",
       "    }\n",
       "\n",
       "    .dataframe thead th {\n",
       "        text-align: right;\n",
       "    }\n",
       "</style>\n",
       "<table border=\"1\" class=\"dataframe\">\n",
       "  <thead>\n",
       "    <tr style=\"text-align: right;\">\n",
       "      <th></th>\n",
       "      <th>App</th>\n",
       "      <th>Category</th>\n",
       "      <th>Rating</th>\n",
       "      <th>Reviews</th>\n",
       "      <th>Size</th>\n",
       "      <th>Installs</th>\n",
       "      <th>Price</th>\n",
       "      <th>Content Rating</th>\n",
       "    </tr>\n",
       "  </thead>\n",
       "  <tbody>\n",
       "  </tbody>\n",
       "</table>\n",
       "</div>"
      ],
      "text/plain": [
       "Empty DataFrame\n",
       "Columns: [App, Category, Rating, Reviews, Size, Installs, Price, Content Rating]\n",
       "Index: []"
      ]
     },
     "execution_count": 45,
     "metadata": {},
     "output_type": "execute_result"
    }
   ],
   "source": [
    "#filter rows for products larger than the maximum size with at least maximum installations\n",
    "df[(df['Size'] > df['Size'].max()) & (df['Installs'] >= df['Installs'].max())]"
   ]
  },
  {
   "cell_type": "markdown",
   "id": "9b6a864e",
   "metadata": {},
   "source": [
    "- **NO** large products with record installations."
   ]
  },
  {
   "cell_type": "markdown",
   "id": "39cc865a",
   "metadata": {},
   "source": [
    "#### Large Paywalled Products"
   ]
  },
  {
   "cell_type": "code",
   "execution_count": 46,
   "id": "1a7155b3",
   "metadata": {},
   "outputs": [
    {
     "data": {
      "text/html": [
       "<div>\n",
       "<style scoped>\n",
       "    .dataframe tbody tr th:only-of-type {\n",
       "        vertical-align: middle;\n",
       "    }\n",
       "\n",
       "    .dataframe tbody tr th {\n",
       "        vertical-align: top;\n",
       "    }\n",
       "\n",
       "    .dataframe thead th {\n",
       "        text-align: right;\n",
       "    }\n",
       "</style>\n",
       "<table border=\"1\" class=\"dataframe\">\n",
       "  <thead>\n",
       "    <tr style=\"text-align: right;\">\n",
       "      <th></th>\n",
       "      <th>App</th>\n",
       "      <th>Category</th>\n",
       "      <th>Rating</th>\n",
       "      <th>Reviews</th>\n",
       "      <th>Size</th>\n",
       "      <th>Installs</th>\n",
       "      <th>Price</th>\n",
       "      <th>Content Rating</th>\n",
       "    </tr>\n",
       "  </thead>\n",
       "  <tbody>\n",
       "    <tr>\n",
       "      <th>10798</th>\n",
       "      <td>Word Search Tab 1 FR</td>\n",
       "      <td>FAMILY</td>\n",
       "      <td>4.19</td>\n",
       "      <td>0.00</td>\n",
       "      <td>1020.00</td>\n",
       "      <td>50.00</td>\n",
       "      <td>1.04</td>\n",
       "      <td>Everyone</td>\n",
       "    </tr>\n",
       "  </tbody>\n",
       "</table>\n",
       "</div>"
      ],
      "text/plain": [
       "                        App Category  Rating  Reviews    Size  Installs  \\\n",
       "10798  Word Search Tab 1 FR   FAMILY    4.19     0.00 1020.00     50.00   \n",
       "\n",
       "       Price Content Rating  \n",
       "10798   1.04       Everyone  "
      ]
     },
     "execution_count": 46,
     "metadata": {},
     "output_type": "execute_result"
    }
   ],
   "source": [
    "#filter rows with at least maximum size and greater than zero dollars\n",
    "df[(df['Size'] >= df['Size'].max()) & (df['Price'] > 0)]"
   ]
  },
  {
   "cell_type": "markdown",
   "id": "cefe472b",
   "metadata": {},
   "source": [
    "- **Word Search Tab 1 FR** is the only large app which is paid."
   ]
  },
  {
   "cell_type": "markdown",
   "id": "47a72b3f",
   "metadata": {},
   "source": [
    "### INSTALLS"
   ]
  },
  {
   "cell_type": "code",
   "execution_count": 47,
   "id": "2035a256",
   "metadata": {},
   "outputs": [
    {
     "data": {
      "image/png": "[encoded data removed]",
      "text/plain": [
       "<Figure size 1000x600 with 1 Axes>"
      ]
     },
     "metadata": {},
     "output_type": "display_data"
    }
   ],
   "source": [
    "#size of the plot\n",
    "plt.figure(figsize = (10,6))\n",
    "\n",
    "#title of the plot\n",
    "plt.title('Histogram Distribution of Installs')\n",
    "\n",
    "#aesthetics\n",
    "sns.set(style = \"darkgrid\")\n",
    "\n",
    "#create histogram\n",
    "sns.histplot(df[\"Installs\"], color = \"g\", alpha = 0.3, linewidth = 4.5, edgecolor = \"k\")\n",
    "\n",
    "#display graph\n",
    "plt.show();"
   ]
  },
  {
   "cell_type": "markdown",
   "id": "473ef128",
   "metadata": {},
   "source": [
    "- Right skewed distribution.\n",
    "- Two little peaks indicate some concentration of values in those areas.\n",
    "- Outliers could be present."
   ]
  },
  {
   "cell_type": "markdown",
   "id": "f4638d33",
   "metadata": {},
   "source": [
    "#### KDE PLOT"
   ]
  },
  {
   "cell_type": "code",
   "execution_count": 48,
   "id": "69c73760",
   "metadata": {},
   "outputs": [
    {
     "data": {
      "image/png": "[encoded data removed]",
      "text/plain": [
       "<Figure size 640x480 with 1 Axes>"
      ]
     },
     "metadata": {},
     "output_type": "display_data"
    }
   ],
   "source": [
    "#title of the plot\n",
    "plt.title('KDE Distribution')\n",
    "\n",
    "#create kde plot\n",
    "sns.kdeplot(df['Installs'], fill = True);\n",
    "\n",
    "#display graph\n",
    "plt.show();"
   ]
  },
  {
   "cell_type": "markdown",
   "id": "788ac3fb",
   "metadata": {},
   "source": [
    "- Plot displays negative values. This is not important to the analysis so it will be rectified with either *Truncation or Reflection.*"
   ]
  },
  {
   "cell_type": "markdown",
   "id": "4c5e7179",
   "metadata": {},
   "source": [
    "#### Installs (KDE) with truncation"
   ]
  },
  {
   "cell_type": "code",
   "execution_count": 49,
   "id": "11dcdbbc",
   "metadata": {},
   "outputs": [
    {
     "data": {
      "image/png": "[encoded data removed]",
      "text/plain": [
       "<Figure size 640x480 with 1 Axes>"
      ]
     },
     "metadata": {},
     "output_type": "display_data"
    }
   ],
   "source": [
    "#title of the plot\n",
    "plt.title(\"KDE Distribution\")\n",
    "\n",
    "#create kde plot with truncation by setting cut parameter\n",
    "sns.kdeplot(df['Installs'], fill = True, cut = 0);\n",
    "\n",
    "#display graph\n",
    "plt.show();"
   ]
  },
  {
   "cell_type": "markdown",
   "id": "6a5b05a3",
   "metadata": {},
   "source": [
    "- Small peak indicates some concentration of values in that area."
   ]
  },
  {
   "cell_type": "markdown",
   "id": "9382ee09",
   "metadata": {},
   "source": [
    "#### Installs(KDE) with Reflection"
   ]
  },
  {
   "cell_type": "code",
   "execution_count": 50,
   "id": "7839bbf0",
   "metadata": {},
   "outputs": [
    {
     "data": {
      "image/png": "[encoded data removed]",
      "text/plain": [
       "<Figure size 640x480 with 1 Axes>"
      ]
     },
     "metadata": {},
     "output_type": "display_data"
    }
   ],
   "source": [
    "df_inst = df['Installs']\n",
    "\n",
    "# Compute KDE estimation using scipy.stats\n",
    "k = gaussian_kde(df_inst)\n",
    "\n",
    "# Get the estimated density values\n",
    "x = np.linspace(df_inst.min(), df_inst.max(), len(df_inst))\n",
    "y = k.evaluate(x)\n",
    "\n",
    "# Reflect the negative part of the density\n",
    "y_reflected = np.abs(np.concatenate((y[::-1], y)))\n",
    "x_reflected = np.concatenate((-x[::-1], x))\n",
    "\n",
    "# Create a plot with the reflected density\n",
    "plt.plot(x_reflected, y_reflected)\n",
    "\n",
    "# Add labels and title\n",
    "plt.xlabel(\"Installs\")\n",
    "plt.ylabel(\"Density\")\n",
    "plt.title(\"Reflected KDE Plot\")\n",
    "\n",
    "#Display the plot\n",
    "plt.show()"
   ]
  },
  {
   "cell_type": "markdown",
   "id": "94a29841",
   "metadata": {},
   "source": [
    "- The truncated plot is simpler for the purpose of this analysis and visualization."
   ]
  },
  {
   "cell_type": "markdown",
   "id": "501c08ac",
   "metadata": {},
   "source": [
    "#### BOXPLOT  OF INSTALLS"
   ]
  },
  {
   "cell_type": "code",
   "execution_count": 51,
   "id": "bd6fb1a7",
   "metadata": {},
   "outputs": [
    {
     "data": {
      "image/png": "[encoded data removed]",
      "text/plain": [
       "<Figure size 640x480 with 1 Axes>"
      ]
     },
     "metadata": {},
     "output_type": "display_data"
    }
   ],
   "source": [
    "#create the boxplot\n",
    "sns.boxplot(data = df, x = df['Installs']) \n",
    "\n",
    "#label of the y-axis\n",
    "plt.xlabel('Installs') \n",
    "\n",
    "#title of the graph\n",
    "plt.title('Boxplot of App Installations') \n",
    "\n",
    "#display the graph\n",
    "plt.show();"
   ]
  },
  {
   "cell_type": "markdown",
   "id": "408dfb2d",
   "metadata": {},
   "source": [
    "- Few outliers present."
   ]
  },
  {
   "cell_type": "markdown",
   "id": "6db6cfd4",
   "metadata": {},
   "source": [
    "#### VIOLIN PLOT OF INSTALLS"
   ]
  },
  {
   "cell_type": "code",
   "execution_count": 52,
   "id": "8e76905b",
   "metadata": {},
   "outputs": [
    {
     "data": {
      "image/png": "[encoded data removed]",
      "text/plain": [
       "<Figure size 640x480 with 1 Axes>"
      ]
     },
     "metadata": {},
     "output_type": "display_data"
    }
   ],
   "source": [
    "#title of plot\n",
    "plt.title('Violin Plot of Installs')\n",
    "\n",
    "#create violin plot\n",
    "sns.violinplot(x = df[\"Installs\"])\n",
    "\n",
    "#display graph\n",
    "plt.show();"
   ]
  },
  {
   "cell_type": "markdown",
   "id": "a878cca3",
   "metadata": {},
   "source": [
    "- Slight extension into negative range. \n",
    "- Values are just an estimation so will not be considered. Catered for with truncation in kde plot."
   ]
  },
  {
   "cell_type": "markdown",
   "id": "367d1fc9",
   "metadata": {},
   "source": [
    "#### Products Most Installations"
   ]
  },
  {
   "cell_type": "code",
   "execution_count": 53,
   "id": "f444eba1",
   "metadata": {},
   "outputs": [
    {
     "name": "stdout",
     "output_type": "stream",
     "text": [
      "Products with most installs:\n",
      "\t• \u001b[1mSubway Surfers\u001b[0m\n",
      "\t• \u001b[1mFacebook\u001b[0m\n",
      "\t• \u001b[1mMessenger – Text and Video Chat for Free\u001b[0m\n",
      "\t• \u001b[1mGoogle Drive\u001b[0m\n",
      "\t• \u001b[1mGoogle Photos\u001b[0m\n"
     ]
    }
   ],
   "source": [
    "#sort values in installs column and filter first five rows of the app and installs column; reset index of table\n",
    "top_installs = pd.DataFrame(df.sort_values('Installs', ascending = False).head(10).iloc[:, [0,5]].reset_index(drop = True))\n",
    "\n",
    "#Filter array of unique values in app column\n",
    "top_df = top_installs['App'].unique()\n",
    "\n",
    "#display statement\n",
    "print(\"Products with most installs:\")\n",
    "for value in (top_df[:5]):\n",
    "    print(f'\\t\\u2022 \\033[1m{value}\\033[0m')"
   ]
  },
  {
   "cell_type": "markdown",
   "id": "9e2cb29e",
   "metadata": {},
   "source": [
    "#### Products with Billion Installations"
   ]
  },
  {
   "cell_type": "code",
   "execution_count": 54,
   "id": "9b86f2a7",
   "metadata": {},
   "outputs": [
    {
     "name": "stdout",
     "output_type": "stream",
     "text": [
      "\u001b[1m 58 \u001b[0m products have a billion installations.\n",
      "These comprise \u001b[1m 0.5 \u001b[0m % of all products.\n"
     ]
    }
   ],
   "source": [
    "#filter rows in installs column with values equal to a billion\n",
    "bill_installs = df[df['Installs'] == 1000000000].shape\n",
    "print('\\033[1m',bill_installs[0],'\\033[0m','products have a billion installations.')\n",
    "\n",
    "#percentage of Products with a billion installations\n",
    "bill_perc = round((bill_installs[0] / df.shape[0]) * 100,1)\n",
    "print('These comprise','\\033[1m',bill_perc,'\\033[0m','% of all products.')"
   ]
  },
  {
   "cell_type": "markdown",
   "id": "c731c15c",
   "metadata": {},
   "source": [
    "#### Products with Good Rating and Installations"
   ]
  },
  {
   "cell_type": "code",
   "execution_count": 55,
   "id": "24a628ef",
   "metadata": {
    "scrolled": true
   },
   "outputs": [
    {
     "name": "stdout",
     "output_type": "stream",
     "text": [
      "Products with good rating and high installations are: \u001b[1m Subway Surfers , Instagram and Google Photos .\u001b[0m\n"
     ]
    }
   ],
   "source": [
    "#filter ratings greater than 4.5 and Installations greater than or equal to maximum value\n",
    "install_rating = df[(df['Rating'] >= 4.5) & (df['Installs'] >= df['Installs'].max())].sort_values(by = 'Rating', ascending = False).reset_index()\n",
    "\n",
    "#reset index of resulting dataframe\n",
    "df_install = install_rating['App'].unique()\n",
    "\n",
    "#print statement\n",
    "print('Products with good rating and high installations are:','\\033[1m',df_install[0], ',',df_install[1], 'and',df_install[2], '.\\033[0m')"
   ]
  },
  {
   "cell_type": "markdown",
   "id": "5cb5e200",
   "metadata": {},
   "source": [
    "#### Products with High Installations and Reviews"
   ]
  },
  {
   "cell_type": "code",
   "execution_count": 56,
   "id": "2c9e352f",
   "metadata": {},
   "outputs": [
    {
     "name": "stdout",
     "output_type": "stream",
     "text": [
      "Products with most reviews and installs:\n",
      "\t• \u001b[1mSubway Surfers\u001b[0m\n",
      "\t• \u001b[1mInstagram\u001b[0m\n",
      "\t• \u001b[1mGoogle Photos\u001b[0m\n"
     ]
    }
   ],
   "source": [
    "#filter based on conditions and sort by Reviews in descending order\n",
    "install_rev = df[(df['Installs'] >= df['Installs'].mean()) & (df['Reviews'] >= df['Reviews'].mean())].sort_values(by = 'Reviews', ascending = False)\n",
    "\n",
    "#reset index of resulting dataframe\n",
    "df_install_rev = install_rating['App'].unique()\n",
    "\n",
    "#print statement\n",
    "print(\"Products with most reviews and installs:\")\n",
    "for x in (df_install_rev[:10]):\n",
    "    print(f'\\t\\u2022 \\033[1m{x}\\033[0m')"
   ]
  },
  {
   "cell_type": "markdown",
   "id": "ebc8f27f",
   "metadata": {},
   "source": [
    "### PRICE"
   ]
  },
  {
   "cell_type": "code",
   "execution_count": 57,
   "id": "1dc415b2",
   "metadata": {},
   "outputs": [
    {
     "data": {
      "image/png": "[encoded data removed]",
      "text/plain": [
       "<Figure size 800x600 with 1 Axes>"
      ]
     },
     "metadata": {},
     "output_type": "display_data"
    }
   ],
   "source": [
    "#size of the plot\n",
    "plt.figure(figsize = (8,6))\n",
    "\n",
    "#title of the plot\n",
    "plt.title('Histogram distribution of Price')\n",
    "\n",
    "#asethetics\n",
    "sns.set(style = \"darkgrid\")\n",
    "\n",
    "#create histogram\n",
    "sns.histplot(df[\"Price\"], color = \"g\", alpha = 0.3, linewidth = 4.5, edgecolor = \"k\")\n",
    "\n",
    "#label of the x-axis\n",
    "plt.xlabel('Price in Dollars')\n",
    "\n",
    "#display graph\n",
    "plt.show();"
   ]
  },
  {
   "cell_type": "markdown",
   "id": "9ca5ffba",
   "metadata": {},
   "source": [
    "- Right skewed distribution.\n",
    "- Maximum value is 400 dollars."
   ]
  },
  {
   "cell_type": "markdown",
   "id": "5fd6ea17",
   "metadata": {},
   "source": [
    "#### KDE PLOT (PRICE)"
   ]
  },
  {
   "cell_type": "code",
   "execution_count": 58,
   "id": "acabe7b2",
   "metadata": {},
   "outputs": [
    {
     "data": {
      "image/png": "[encoded data removed]",
      "text/plain": [
       "<Figure size 640x480 with 1 Axes>"
      ]
     },
     "metadata": {},
     "output_type": "display_data"
    }
   ],
   "source": [
    "#title of plot\n",
    "plt.title('Kde Distribution')\n",
    "\n",
    "#create kde plot\n",
    "sns.kdeplot(df['Price'], fill = True);\n",
    "\n",
    "#label of the x-axis\n",
    "plt.xlabel('Price in Dollars') \n",
    "\n",
    "#limits on y-axis\n",
    "plt.ylim(-0.01, 0.16)\n",
    "\n",
    "#display graph\n",
    "plt.show();"
   ]
  },
  {
   "cell_type": "markdown",
   "id": "bd99cc38",
   "metadata": {},
   "source": [
    "- Slight extension on the left to be corrected using truncation or reflection."
   ]
  },
  {
   "cell_type": "markdown",
   "id": "39990e33",
   "metadata": {},
   "source": [
    "#### KDE PLOT (PRICE) WITH TRUNCATION"
   ]
  },
  {
   "cell_type": "code",
   "execution_count": 59,
   "id": "ac08255b",
   "metadata": {},
   "outputs": [
    {
     "data": {
      "image/png": "[encoded data removed]",
      "text/plain": [
       "<Figure size 640x480 with 1 Axes>"
      ]
     },
     "metadata": {},
     "output_type": "display_data"
    }
   ],
   "source": [
    "#title of plot\n",
    "plt.title('Kde Distribution')\n",
    "\n",
    "#create kde plot\n",
    "sns.kdeplot(df['Price'], fill = True, cut = 0);\n",
    "\n",
    "#label of the x-axis\n",
    "plt.xlabel('Price in Dollars') \n",
    "\n",
    "#limits on y-axis\n",
    "plt.ylim(-0.01, 0.16)\n",
    "\n",
    "#display graph\n",
    "plt.show();"
   ]
  },
  {
   "cell_type": "markdown",
   "id": "9e4e211f",
   "metadata": {},
   "source": [
    "- Extension on the left truncated. Lower limit on x-axis is 0."
   ]
  },
  {
   "cell_type": "markdown",
   "id": "0fadb7eb",
   "metadata": {},
   "source": [
    "#### KDE PLOT (PRICE) WITH REFLECTION"
   ]
  },
  {
   "cell_type": "code",
   "execution_count": 60,
   "id": "5b2493ca",
   "metadata": {},
   "outputs": [
    {
     "data": {
      "image/png": "[encoded data removed]",
      "text/plain": [
       "<Figure size 640x480 with 1 Axes>"
      ]
     },
     "metadata": {},
     "output_type": "display_data"
    }
   ],
   "source": [
    "df_price = df['Price']\n",
    "\n",
    "# Compute KDE estimation using scipy.stats\n",
    "k = gaussian_kde(df_price)\n",
    "\n",
    "# Get the estimated density values\n",
    "x = np.linspace(df_price.min(), df_price.max(), len(df_price))\n",
    "y = k.evaluate(x)\n",
    "\n",
    "# Reflect the negative part of the density\n",
    "y_reflected = np.abs(np.concatenate((y[::-1], y)))\n",
    "x_reflected = np.concatenate((-x[::-1], x))\n",
    "\n",
    "# Create a plot with the reflected density\n",
    "plt.plot(x_reflected, y_reflected)\n",
    "\n",
    "# Add labels and title\n",
    "plt.xlabel(\"Price\")\n",
    "plt.ylabel(\"Density\")\n",
    "plt.title(\"Reflected KDE Plot\")\n",
    "\n",
    "# Display the plot\n",
    "plt.show();"
   ]
  },
  {
   "cell_type": "markdown",
   "id": "ccecbed4",
   "metadata": {},
   "source": [
    "- The truncated plot is better for this analysis and visualisation."
   ]
  },
  {
   "cell_type": "markdown",
   "id": "4ee63cd9",
   "metadata": {},
   "source": [
    "#### BOXPLOT PRICE"
   ]
  },
  {
   "cell_type": "code",
   "execution_count": 61,
   "id": "a3c77d7e",
   "metadata": {},
   "outputs": [
    {
     "data": {
      "image/png": "[encoded data removed]",
      "text/plain": [
       "<Figure size 640x480 with 1 Axes>"
      ]
     },
     "metadata": {},
     "output_type": "display_data"
    }
   ],
   "source": [
    "#create the boxplot\n",
    "sns.boxplot(data = df, x = df['Price']) \n",
    "\n",
    "#title of the graph\n",
    "plt.title('Boxplot of App Prices')\n",
    "\n",
    "#label of the x-axis\n",
    "plt.xlabel('Price in Dollars') \n",
    "\n",
    "#display the graph\n",
    "plt.show(); "
   ]
  },
  {
   "cell_type": "markdown",
   "id": "cf8d6073",
   "metadata": {},
   "source": [
    "- Presence of many outliers indicating some relatively expensive products."
   ]
  },
  {
   "cell_type": "markdown",
   "id": "565d10ca",
   "metadata": {},
   "source": [
    "#### VIOLIN PLOT OF PRICE"
   ]
  },
  {
   "cell_type": "code",
   "execution_count": 62,
   "id": "10055951",
   "metadata": {},
   "outputs": [
    {
     "data": {
      "image/png": "[encoded data removed]",
      "text/plain": [
       "<Figure size 640x480 with 1 Axes>"
      ]
     },
     "metadata": {},
     "output_type": "display_data"
    }
   ],
   "source": [
    "#title of the plot\n",
    "plt.title('Violin Plot of Price')\n",
    "\n",
    "#create violinplot\n",
    "sns.violinplot(x = df[\"Price\"])\n",
    "\n",
    "#label of the x-axis\n",
    "plt.xlabel('Price in Dollars') \n",
    "\n",
    "#display graph\n",
    "plt.show();"
   ]
  },
  {
   "cell_type": "markdown",
   "id": "1a05e777",
   "metadata": {},
   "source": [
    "- Wide area indicates concentration of values at that region.\n",
    "- Long tail indicates presence of outliers.\n",
    "- Extension on lower limit catered for with truncation in kde plot."
   ]
  },
  {
   "cell_type": "markdown",
   "id": "580ee6c5",
   "metadata": {},
   "source": [
    "#### Most Expensive Apps"
   ]
  },
  {
   "cell_type": "code",
   "execution_count": 63,
   "id": "e2f5befb",
   "metadata": {},
   "outputs": [
    {
     "data": {
      "text/html": [
       "<div>\n",
       "<style scoped>\n",
       "    .dataframe tbody tr th:only-of-type {\n",
       "        vertical-align: middle;\n",
       "    }\n",
       "\n",
       "    .dataframe tbody tr th {\n",
       "        vertical-align: top;\n",
       "    }\n",
       "\n",
       "    .dataframe thead th {\n",
       "        text-align: right;\n",
       "    }\n",
       "</style>\n",
       "<table border=\"1\" class=\"dataframe\">\n",
       "  <thead>\n",
       "    <tr style=\"text-align: right;\">\n",
       "      <th></th>\n",
       "      <th>App</th>\n",
       "      <th>Price</th>\n",
       "    </tr>\n",
       "  </thead>\n",
       "  <tbody>\n",
       "    <tr>\n",
       "      <th>0</th>\n",
       "      <td>I'm Rich - Trump Edition</td>\n",
       "      <td>400.00</td>\n",
       "    </tr>\n",
       "    <tr>\n",
       "      <th>1</th>\n",
       "      <td>I am rich</td>\n",
       "      <td>399.99</td>\n",
       "    </tr>\n",
       "    <tr>\n",
       "      <th>2</th>\n",
       "      <td>I am Rich!</td>\n",
       "      <td>399.99</td>\n",
       "    </tr>\n",
       "    <tr>\n",
       "      <th>3</th>\n",
       "      <td>most expensive app (H)</td>\n",
       "      <td>399.99</td>\n",
       "    </tr>\n",
       "    <tr>\n",
       "      <th>4</th>\n",
       "      <td>I am Rich</td>\n",
       "      <td>399.99</td>\n",
       "    </tr>\n",
       "  </tbody>\n",
       "</table>\n",
       "</div>"
      ],
      "text/plain": [
       "                        App  Price\n",
       "0  I'm Rich - Trump Edition 400.00\n",
       "1                 I am rich 399.99\n",
       "2                I am Rich! 399.99\n",
       "3    most expensive app (H) 399.99\n",
       "4                 I am Rich 399.99"
      ]
     },
     "execution_count": 63,
     "metadata": {},
     "output_type": "execute_result"
    }
   ],
   "source": [
    "#sort prices in ascending order and display the top ten\n",
    "pd.DataFrame(df.sort_values('Price', ascending = False).head().iloc[: , [0, 6]].reset_index(drop = True))"
   ]
  },
  {
   "cell_type": "markdown",
   "id": "a2c81280",
   "metadata": {},
   "source": [
    "- Different versions of *I'm Rich* product."
   ]
  },
  {
   "cell_type": "markdown",
   "id": "dee1ef04",
   "metadata": {},
   "source": [
    "#### Premium Products with Large Installations"
   ]
  },
  {
   "cell_type": "code",
   "execution_count": 64,
   "id": "a126d9b8",
   "metadata": {},
   "outputs": [
    {
     "name": "stdout",
     "output_type": "stream",
     "text": [
      "Premium Products with Most Installs:\n",
      "\t• \u001b[1mMinecraft\u001b[0m\n",
      "\t• \u001b[1mHitman Sniper\u001b[0m\n",
      "\t• \u001b[1mBeautiful Widgets Pro\u001b[0m\n",
      "\t• \u001b[1mStickman Legends: Shadow Wars\u001b[0m\n"
     ]
    }
   ],
   "source": [
    "#filter rows greater than zero dollars and sort by installs in descending order\n",
    "prem_install = df[df['Price'] > 0].sort_values(by = 'Installs', ascending = False).head()\n",
    "\n",
    "#filter unique values\n",
    "prem_df = prem_install['App'].unique()\n",
    "\n",
    "#display statement\n",
    "print(\"Premium Products with Most Installs:\")\n",
    "for y in (prem_df[:5]):\n",
    "    print(f'\\t\\u2022 \\033[1m{y}\\033[0m')"
   ]
  },
  {
   "cell_type": "markdown",
   "id": "f8ca55e5",
   "metadata": {},
   "source": [
    "#### Premium Products with Good Ratings"
   ]
  },
  {
   "cell_type": "code",
   "execution_count": 65,
   "id": "f5c870ca",
   "metadata": {},
   "outputs": [
    {
     "data": {
      "text/html": [
       "<div>\n",
       "<style scoped>\n",
       "    .dataframe tbody tr th:only-of-type {\n",
       "        vertical-align: middle;\n",
       "    }\n",
       "\n",
       "    .dataframe tbody tr th {\n",
       "        vertical-align: top;\n",
       "    }\n",
       "\n",
       "    .dataframe thead th {\n",
       "        text-align: right;\n",
       "    }\n",
       "</style>\n",
       "<table border=\"1\" class=\"dataframe\">\n",
       "  <thead>\n",
       "    <tr style=\"text-align: right;\">\n",
       "      <th></th>\n",
       "      <th>App</th>\n",
       "      <th>Category</th>\n",
       "      <th>Rating</th>\n",
       "      <th>Reviews</th>\n",
       "      <th>Size</th>\n",
       "      <th>Installs</th>\n",
       "      <th>Price</th>\n",
       "      <th>Content Rating</th>\n",
       "    </tr>\n",
       "  </thead>\n",
       "  <tbody>\n",
       "    <tr>\n",
       "      <th>9056</th>\n",
       "      <td>Santa's Monster Shootout DX</td>\n",
       "      <td>GAME</td>\n",
       "      <td>5.00</td>\n",
       "      <td>4.00</td>\n",
       "      <td>33.00</td>\n",
       "      <td>50.00</td>\n",
       "      <td>1.99</td>\n",
       "      <td>Teen</td>\n",
       "    </tr>\n",
       "    <tr>\n",
       "      <th>8018</th>\n",
       "      <td>30WPM Amateur ham radio Koch CW Morse code tra...</td>\n",
       "      <td>FAMILY</td>\n",
       "      <td>5.00</td>\n",
       "      <td>1.00</td>\n",
       "      <td>3.70</td>\n",
       "      <td>10.00</td>\n",
       "      <td>1.49</td>\n",
       "      <td>Everyone</td>\n",
       "    </tr>\n",
       "    <tr>\n",
       "      <th>5917</th>\n",
       "      <td>Ra Ga Ba</td>\n",
       "      <td>GAME</td>\n",
       "      <td>5.00</td>\n",
       "      <td>2.00</td>\n",
       "      <td>20.00</td>\n",
       "      <td>1.00</td>\n",
       "      <td>1.49</td>\n",
       "      <td>Everyone</td>\n",
       "    </tr>\n",
       "  </tbody>\n",
       "</table>\n",
       "</div>"
      ],
      "text/plain": [
       "                                                    App Category  Rating  \\\n",
       "9056                        Santa's Monster Shootout DX     GAME    5.00   \n",
       "8018  30WPM Amateur ham radio Koch CW Morse code tra...   FAMILY    5.00   \n",
       "5917                                           Ra Ga Ba     GAME    5.00   \n",
       "\n",
       "      Reviews  Size  Installs  Price Content Rating  \n",
       "9056     4.00 33.00     50.00   1.99           Teen  \n",
       "8018     1.00  3.70     10.00   1.49       Everyone  \n",
       "5917     2.00 20.00      1.00   1.49       Everyone  "
      ]
     },
     "execution_count": 65,
     "metadata": {},
     "output_type": "execute_result"
    }
   ],
   "source": [
    "#filter rows greater than zero dollars and sort table by rating values in descending order\n",
    "df[df['Price'] > 0].sort_values(by = 'Rating', ascending = False).head(3)"
   ]
  },
  {
   "cell_type": "markdown",
   "id": "80dafde4",
   "metadata": {},
   "source": [
    "- Perfect rating but low installs and low reviews."
   ]
  },
  {
   "cell_type": "markdown",
   "id": "8f6ccecb",
   "metadata": {},
   "source": [
    "#### FREE PRODUCTS"
   ]
  },
  {
   "cell_type": "code",
   "execution_count": 66,
   "id": "406024d7",
   "metadata": {},
   "outputs": [
    {
     "name": "stdout",
     "output_type": "stream",
     "text": [
      "\u001b[1m 92.6 \u001b[0m % of products are free.\n",
      "\u001b[1m 10040 \u001b[0m are free to install products.\n"
     ]
    }
   ],
   "source": [
    "#compute division of number of rows of less than zero dollars and the total and return result in one decimal place\n",
    "free_perc = round((df[df['Price'] <= 0].shape[0] / df.shape[0]) * 100, 1)\n",
    "\n",
    "#display statement\n",
    "print('\\033[1m',free_perc,'\\033[0m','% of products are free.')\n",
    "\n",
    "#display statement\n",
    "print('\\033[1m',df[df['Price'] <= 0].shape[0],'\\033[0m','are free to install products.')"
   ]
  },
  {
   "cell_type": "markdown",
   "id": "5ed485fb",
   "metadata": {},
   "source": [
    "#### Products between zero and fifty dollars"
   ]
  },
  {
   "cell_type": "code",
   "execution_count": 67,
   "id": "394146a6",
   "metadata": {},
   "outputs": [
    {
     "name": "stdout",
     "output_type": "stream",
     "text": [
      "\u001b[1m99.8\u001b[0m% (\u001b[1m10816\u001b[0m) of products cost between $0 and $50.\n"
     ]
    }
   ],
   "source": [
    "#filter rows based on condition\n",
    "cheap = df[(df['Price'] >= 0) & (df['Price'] <= 50)]\n",
    "\n",
    "#compute percentage\n",
    "cheap_perc = (cheap.shape[0] / df.shape[0]) * 100\n",
    "\n",
    "#display statement\n",
    "print('\\033[1m' + str(round(cheap_perc, 1)) + '\\033[0m' + '%' + ' (' + '\\033[1m' + str(cheap.shape[0]) + '\\033[0m' + ')' + ' of products cost between $0 and $50.')"
   ]
  },
  {
   "cell_type": "markdown",
   "id": "08558f49",
   "metadata": {},
   "source": [
    "#### Expensive Products"
   ]
  },
  {
   "cell_type": "code",
   "execution_count": 68,
   "id": "1a99b855",
   "metadata": {},
   "outputs": [
    {
     "name": "stdout",
     "output_type": "stream",
     "text": [
      "\u001b[1m 0.22 \u001b[0m % of products cost more than $50\n"
     ]
    }
   ],
   "source": [
    "#filter rows based on condition that price is greater than fifty dollars\n",
    "above_mean = round((df[df['Price'] > 50].shape[0] / df.shape[0]) * 100, 2)\n",
    "\n",
    "#display statement\n",
    "print('\\033[1m',above_mean,'\\033[0m','% of products cost more than $50')"
   ]
  }
 ],
 "metadata": {
  "kernelspec": {
   "display_name": "Python 3 (ipykernel)",
   "language": "python",
   "name": "python3"
  },
  "language_info": {
   "codemirror_mode": {
    "name": "ipython",
    "version": 3
   },
   "file_extension": ".py",
   "mimetype": "text/x-python",
   "name": "python",
   "nbconvert_exporter": "python",
   "pygments_lexer": "ipython3",
   "version": "3.8.15"
  }
 },
 "nbformat": 4,
 "nbformat_minor": 5
}
